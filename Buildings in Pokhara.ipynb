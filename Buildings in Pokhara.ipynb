{
 "cells": [
  {
   "cell_type": "code",
   "execution_count": 5,
   "metadata": {
    "ExecuteTime": {
     "end_time": "2019-08-23T23:27:14.638482Z",
     "start_time": "2019-08-23T23:27:14.632277Z"
    }
   },
   "outputs": [],
   "source": [
    "from workshop_utils import * \n",
    "import pandas as pd\n",
    "%matplotlib inline"
   ]
  },
  {
   "cell_type": "code",
   "execution_count": 2,
   "metadata": {
    "ExecuteTime": {
     "end_time": "2019-08-23T23:26:13.870906Z",
     "start_time": "2019-08-23T23:26:13.526736Z"
    }
   },
   "outputs": [
    {
     "name": "stdout",
     "output_type": "stream",
     "text": [
      "Query results saved to: \n",
      "data/30b40c7a-6497-4366-b10b-99c61395dc97.csv"
     ]
    }
   ],
   "source": [
    "df = load_dataframe_from_s3(\"30b40c7a-6497-4366-b10b-99c61395dc97\")"
   ]
  },
  {
   "cell_type": "code",
   "execution_count": 3,
   "metadata": {
    "ExecuteTime": {
     "end_time": "2019-08-23T23:26:18.894201Z",
     "start_time": "2019-08-23T23:26:18.864008Z"
    }
   },
   "outputs": [
    {
     "data": {
      "text/html": [
       "<div>\n",
       "<style scoped>\n",
       "    .dataframe tbody tr th:only-of-type {\n",
       "        vertical-align: middle;\n",
       "    }\n",
       "\n",
       "    .dataframe tbody tr th {\n",
       "        vertical-align: top;\n",
       "    }\n",
       "\n",
       "    .dataframe thead th {\n",
       "        text-align: right;\n",
       "    }\n",
       "</style>\n",
       "<table border=\"1\" class=\"dataframe\">\n",
       "  <thead>\n",
       "    <tr style=\"text-align: right;\">\n",
       "      <th></th>\n",
       "      <th>lifespan_minutes</th>\n",
       "      <th>objects</th>\n",
       "      <th>lifespan_days</th>\n",
       "      <th>object_percent</th>\n",
       "    </tr>\n",
       "    <tr>\n",
       "      <th>date</th>\n",
       "      <th></th>\n",
       "      <th></th>\n",
       "      <th></th>\n",
       "      <th></th>\n",
       "    </tr>\n",
       "  </thead>\n",
       "  <tbody>\n",
       "    <tr>\n",
       "      <th>2010-08-08</th>\n",
       "      <td>587173.000000</td>\n",
       "      <td>1</td>\n",
       "      <td>407.759028</td>\n",
       "      <td>0.000006</td>\n",
       "    </tr>\n",
       "    <tr>\n",
       "      <th>2011-07-05</th>\n",
       "      <td>110611.000000</td>\n",
       "      <td>6</td>\n",
       "      <td>76.813194</td>\n",
       "      <td>0.000037</td>\n",
       "    </tr>\n",
       "    <tr>\n",
       "      <th>2011-07-06</th>\n",
       "      <td>107947.298246</td>\n",
       "      <td>57</td>\n",
       "      <td>74.963402</td>\n",
       "      <td>0.000352</td>\n",
       "    </tr>\n",
       "    <tr>\n",
       "      <th>2011-07-07</th>\n",
       "      <td>98892.458333</td>\n",
       "      <td>48</td>\n",
       "      <td>68.675318</td>\n",
       "      <td>0.000296</td>\n",
       "    </tr>\n",
       "  </tbody>\n",
       "</table>\n",
       "</div>"
      ],
      "text/plain": [
       "            lifespan_minutes  objects  lifespan_days  object_percent\n",
       "date                                                                \n",
       "2010-08-08     587173.000000        1     407.759028        0.000006\n",
       "2011-07-05     110611.000000        6      76.813194        0.000037\n",
       "2011-07-06     107947.298246       57      74.963402        0.000352\n",
       "2011-07-07      98892.458333       48      68.675318        0.000296"
      ]
     },
     "execution_count": 3,
     "metadata": {},
     "output_type": "execute_result"
    }
   ],
   "source": [
    "# df = pd.read_csv(\"data/30b40c7a-6497-4366-b10b-99c61395dc97.csv\")\n",
    "df.columns = [\"date\", \"lifespan_minutes\", \"objects\"]\n",
    "df.date = df.date.apply(pd.Timestamp)\n",
    "df.set_index('date', inplace=True)\n",
    "df.sort_index(inplace=True)\n",
    "df['lifespan_days'] = df.lifespan_minutes.apply(lambda x: x/(60*24))\n",
    "df['object_percent'] = df.objects / df.objects.sum()\n",
    "df.head(4)"
   ]
  },
  {
   "cell_type": "code",
   "execution_count": 6,
   "metadata": {
    "ExecuteTime": {
     "end_time": "2019-08-23T23:27:16.407375Z",
     "start_time": "2019-08-23T23:27:16.261236Z"
    }
   },
   "outputs": [
    {
     "data": {
      "image/png": "[encoded data removed]",
      "text/plain": [
       "<Figure size 1080x576 with 1 Axes>"
      ]
     },
     "metadata": {},
     "output_type": "display_data"
    }
   ],
   "source": [
    "ax = df['object_percent'].cumsum().plot(figsize=(15,8))\n",
    "ax.set_xlabel(\"Date\"); ax.set_ylabel(\"\"); ax.set_title(\"When buildings were added in Pokhara\",fontsize=16);"
   ]
  },
  {
   "cell_type": "code",
   "execution_count": null,
   "metadata": {},
   "outputs": [],
   "source": []
  }
 ],
 "metadata": {
  "hide_input": false,
  "kernelspec": {
   "display_name": "Python 3",
   "language": "python",
   "name": "python3"
  },
  "language_info": {
   "codemirror_mode": {
    "name": "ipython",
    "version": 3
   },
   "file_extension": ".py",
   "mimetype": "text/x-python",
   "name": "python",
   "nbconvert_exporter": "python",
   "pygments_lexer": "ipython3",
   "version": "3.7.3"
  },
  "varInspector": {
   "cols": {
    "lenName": 16,
    "lenType": 16,
    "lenVar": 40
   },
   "kernels_config": {
    "python": {
     "delete_cmd_postfix": "",
     "delete_cmd_prefix": "del ",
     "library": "var_list.py",
     "varRefreshCmd": "print(var_dic_list())"
    },
    "r": {
     "delete_cmd_postfix": ") ",
     "delete_cmd_prefix": "rm(",
     "library": "var_list.r",
     "varRefreshCmd": "cat(var_dic_list()) "
    }
   },
   "types_to_exclude": [
    "module",
    "function",
    "builtin_function_or_method",
    "instance",
    "_Feature"
   ],
   "window_display": false
  }
 },
 "nbformat": 4,
 "nbformat_minor": 2
}
