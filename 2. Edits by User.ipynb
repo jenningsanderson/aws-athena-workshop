{
 "cells": [
  {
   "cell_type": "code",
   "execution_count": null,
   "metadata": {
    "ExecuteTime": {
     "end_time": "2019-08-28T03:54:06.987804Z",
     "start_time": "2019-08-28T03:54:06.975533Z"
    }
   },
   "outputs": [],
   "source": [
    "from workshop_utils import * \n",
    "import pandas as pd\n",
    "import matplotlib.pyplot as plt\n",
    "import matplotlib.dates as mdates\n",
    "import seaborn as sns\n",
    "import datetime\n",
    "%matplotlib inline\n",
    "%config InlineBackend.figure_format = 'retina'"
   ]
  },
  {
   "cell_type": "markdown",
   "metadata": {},
   "source": [
    "## Editors in Tacloban\n",
    "The following query gets basic editing stats for all objects edited in Tacloban, Philippines, grouped by user"
   ]
  },
  {
   "cell_type": "markdown",
   "metadata": {
    "ExecuteTime": {
     "end_time": "2019-08-28T03:46:32.207240Z",
     "start_time": "2019-08-28T03:46:32.203102Z"
    }
   },
   "source": [
    "```sql\n",
    "SELECT changesets.user,\n",
    "       count(distinct(southeastern_asia.id)) AS objects,\n",
    "       count(southeastern_asia.id) AS edits,\n",
    "       count(distinct(southeastern_asia.changeset)) AS changesets,\n",
    "       min(southeastern_asia.updated) AS first_edit,\n",
    "       max(southeastern_asia.updated) AS last_edit\n",
    "FROM southeastern_asia\n",
    "JOIN changesets\n",
    "    ON southeastern_asia.changeset = changesets.id\n",
    "WHERE ST_WITHIN( geom , ST_Polygon('POLYGON((124.909271 11.293189, 125.088518 11.293189, 125.088518 10.954934, 124.909271 10.954934, 124.909271 11.293189))') )\n",
    "GROUP BY  changesets.user ORDER BY objects DESC\n",
    "```"
   ]
  },
  {
   "cell_type": "code",
   "execution_count": null,
   "metadata": {
    "ExecuteTime": {
     "end_time": "2019-08-28T03:54:07.590860Z",
     "start_time": "2019-08-28T03:54:07.582608Z"
    }
   },
   "outputs": [],
   "source": [
    "users = load_dataframe_from_s3('https://us-east-2.console.aws.amazon.com/athena/query/results/cc587eaa-78d3-4d0f-b436-b610660f15d4/csv')"
   ]
  },
  {
   "cell_type": "code",
   "execution_count": null,
   "metadata": {
    "ExecuteTime": {
     "end_time": "2019-08-28T03:54:08.036488Z",
     "start_time": "2019-08-28T03:54:08.027771Z"
    }
   },
   "outputs": [],
   "source": [
    "users.head(2)"
   ]
  },
  {
   "cell_type": "code",
   "execution_count": null,
   "metadata": {
    "ExecuteTime": {
     "end_time": "2019-08-28T03:54:18.561912Z",
     "start_time": "2019-08-28T03:54:18.548774Z"
    }
   },
   "outputs": [],
   "source": [
    "# Basic dataframe cleaning and maintenance\n",
    "users['first_edit'] = users.first_edit.apply(pd.Timestamp)\n",
    "users['last_edit']  = users.last_edit.apply(pd.Timestamp)"
   ]
  },
  {
   "cell_type": "code",
   "execution_count": null,
   "metadata": {},
   "outputs": [],
   "source": [
    "users['first_day'] = users.first_edit.apply(pd.Timestamp.date)"
   ]
  },
  {
   "cell_type": "code",
   "execution_count": null,
   "metadata": {},
   "outputs": [],
   "source": [
    "ax = users.groupby('first_day').aggregate({'user':'count'}).plot(style='.', figsize=(14,4),legend=None)\n",
    "ax.set_title(\"Number of users active in the area\",fontsize=16)\n",
    "ax.set_xlabel(\"Date\"); ax.set_ylabel(\"Number of Users\");\n",
    "# ax.set_xlim(datetime.date(2012,1,1)); "
   ]
  },
  {
   "cell_type": "code",
   "execution_count": null,
   "metadata": {
    "ExecuteTime": {
     "end_time": "2019-08-28T03:54:19.690379Z",
     "start_time": "2019-08-28T03:54:19.486919Z"
    }
   },
   "outputs": [],
   "source": [
    "ax = users.groupby('first_day').aggregate({'user':'count'}).cumsum().plot(figsize=(14,4),legend=None)\n",
    "ax.set_title(\"Number of users active in the area\",fontsize=16)\n",
    "ax.set_xlabel(\"Date\"); ax.set_ylabel(\"Number of Users (Cumulative)\")\n",
    "ax.set_xlim(datetime.date(2012,1,1)); "
   ]
  },
  {
   "cell_type": "code",
   "execution_count": null,
   "metadata": {
    "ExecuteTime": {
     "end_time": "2019-08-28T03:54:19.918383Z",
     "start_time": "2019-08-28T03:54:19.715020Z"
    }
   },
   "outputs": [],
   "source": [
    "ax = users.groupby('first_edit').aggregate({'objects':'sum'}).cumsum().plot(figsize=(14,4))\n",
    "ax.set_title(\"Objects edited in Tacloban\",fontsize=16);\n",
    "ax.set_xlabel(\"Date\"); ax.set_ylabel(\"Object count (cumulative)\");"
   ]
  },
  {
   "cell_type": "markdown",
   "metadata": {},
   "source": [
    "As opposed to just _new buildings_, we can see that all edits in Tacloban follow a similar trend with the most activity happening around Typhoon Haiyan"
   ]
  },
  {
   "cell_type": "code",
   "execution_count": null,
   "metadata": {},
   "outputs": [],
   "source": []
  }
 ],
 "metadata": {
  "hide_input": false,
  "kernelspec": {
   "display_name": "Python 3",
   "language": "python",
   "name": "python3"
  },
  "language_info": {
   "codemirror_mode": {
    "name": "ipython",
    "version": 3
   },
   "file_extension": ".py",
   "mimetype": "text/x-python",
   "name": "python",
   "nbconvert_exporter": "python",
   "pygments_lexer": "ipython3",
   "version": "3.6.8"
  },
  "varInspector": {
   "cols": {
    "lenName": 16,
    "lenType": 16,
    "lenVar": 40
   },
   "kernels_config": {
    "python": {
     "delete_cmd_postfix": "",
     "delete_cmd_prefix": "del ",
     "library": "var_list.py",
     "varRefreshCmd": "print(var_dic_list())"
    },
    "r": {
     "delete_cmd_postfix": ") ",
     "delete_cmd_prefix": "rm(",
     "library": "var_list.r",
     "varRefreshCmd": "cat(var_dic_list()) "
    }
   },
   "types_to_exclude": [
    "module",
    "function",
    "builtin_function_or_method",
    "instance",
    "_Feature"
   ],
   "window_display": false
  }
 },
 "nbformat": 4,
 "nbformat_minor": 2
}
