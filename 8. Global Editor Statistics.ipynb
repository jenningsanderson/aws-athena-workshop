{
 "cells": [
  {
   "cell_type": "code",
   "execution_count": null,
   "metadata": {
    "ExecuteTime": {
     "end_time": "2019-08-28T04:36:16.235262Z",
     "start_time": "2019-08-28T04:36:15.973234Z"
    }
   },
   "outputs": [],
   "source": [
    "from workshop_utils import *\n",
    "import pandas as pd\n",
    "import seaborn as sns\n",
    "%matplotlib inline\n",
    "%config InlineBackend.figure_format = 'retina'"
   ]
  },
  {
   "cell_type": "markdown",
   "metadata": {},
   "source": [
    "# Global Edit Counts\n",
    "This query searches only the changesets table getting basic statistics (for all users); This is effectively the same as Notebook 0, but without any changeset comment filtering. It should return information for all 1.3M contributors\n",
    "```sql\n",
    "SELECT\n",
    "    changesets.user,\n",
    "    min(created_at) AS first_edit, \n",
    "    max(created_at) AS last_edit, \n",
    "    date_diff('day', min(created_at), max(created_at)) AS lifespan,\n",
    "    sum(num_changes) AS total_edits,\n",
    "    count(id) AS total_changesets\n",
    "FROM \n",
    "    changesets\n",
    "GROUP BY \n",
    "    changesets.user \n",
    "ORDER BY lifespan DESC\n",
    "```"
   ]
  },
  {
   "cell_type": "code",
   "execution_count": null,
   "metadata": {
    "ExecuteTime": {
     "end_time": "2019-08-28T04:34:02.164982Z",
     "start_time": "2019-08-28T04:34:00.300455Z"
    }
   },
   "outputs": [],
   "source": [
    "df = load_dataframe_from_s3('https://us-east-2.console.aws.amazon.com/athena/query/results/6cab4ea3-8431-4cd6-8f89-8881fa43c8b2/csv')"
   ]
  },
  {
   "cell_type": "code",
   "execution_count": null,
   "metadata": {
    "ExecuteTime": {
     "end_time": "2019-08-28T04:34:06.476883Z",
     "start_time": "2019-08-28T04:34:02.195506Z"
    }
   },
   "outputs": [],
   "source": [
    "df.set_index('user', inplace=True)\n",
    "df.first_edit = df.first_edit.apply(lambda x: pd.Timestamp(x).date())\n",
    "df.last_edit = df.last_edit.apply(lambda x: pd.Timestamp(x).date())"
   ]
  },
  {
   "cell_type": "code",
   "execution_count": null,
   "metadata": {
    "ExecuteTime": {
     "end_time": "2019-08-28T04:46:23.723606Z",
     "start_time": "2019-08-28T04:46:23.715326Z"
    }
   },
   "outputs": [],
   "source": [
    "df.head(2)"
   ]
  },
  {
   "cell_type": "code",
   "execution_count": null,
   "metadata": {
    "ExecuteTime": {
     "end_time": "2019-08-28T04:46:24.699563Z",
     "start_time": "2019-08-28T04:46:24.360715Z"
    }
   },
   "outputs": [],
   "source": [
    "sns.set_style('whitegrid')\n",
    "ax = df.groupby('first_edit').aggregate('count')['total_edits'].plot(figsize=(14,4))\n",
    "ax.set_xlabel(\"Date\"); \n",
    "ax.set_ylabel(\"Number of mappers with\\ntheir first edit\", fontsize=16)\n",
    "ax.set_title(\"How many users started mapping each day?\", fontsize=16);"
   ]
  },
  {
   "cell_type": "code",
   "execution_count": null,
   "metadata": {
    "ExecuteTime": {
     "end_time": "2019-08-28T04:46:25.548814Z",
     "start_time": "2019-08-28T04:46:25.201632Z"
    }
   },
   "outputs": [],
   "source": [
    "ax = df.groupby('first_edit').aggregate('count')['total_edits'].cumsum().plot(figsize=(14,4))\n",
    "ax.set_xlabel(\"Date\"); \n",
    "ax.set_ylabel(\"Cumulative number of mappers\", fontsize=16)\n",
    "ax.set_title(\"Growth of Mappers over time\", fontsize=16);"
   ]
  },
  {
   "cell_type": "markdown",
   "metadata": {},
   "source": [
    "But what is that Spike at 2017?"
   ]
  },
  {
   "cell_type": "code",
   "execution_count": null,
   "metadata": {
    "ExecuteTime": {
     "end_time": "2019-08-28T04:46:30.394575Z",
     "start_time": "2019-08-28T04:46:30.248581Z"
    }
   },
   "outputs": [],
   "source": [
    "#Group by date, sort by number of users descending...\n",
    "df.groupby('first_edit').aggregate('count').sort_values(by='total_edits',ascending=False).head()"
   ]
  },
  {
   "cell_type": "code",
   "execution_count": null,
   "metadata": {
    "ExecuteTime": {
     "end_time": "2019-08-28T04:55:23.160402Z",
     "start_time": "2019-08-28T04:55:22.885513Z"
    },
    "scrolled": false
   },
   "outputs": [],
   "source": [
    "#Let's plot the lifespan for the userse that joined that day?\n",
    "ax = df[ df.first_edit == pd.Timestamp('2017-01-26').date()][\n",
    "    'lifespan'].plot(kind='hist',bins=50,figsize=(10,5))\n",
    "ax.set_xlabel(\"Number of Days between first and last edit\",fontsize=12); ax.set_ylabel(\"Number of mappers (log10)\", fontsize=12)\n",
    "ax.set_title(\"Histogram of mapper lifespans for mappers whose first edit was January 25, 2017\", fontsize=12);"
   ]
  },
  {
   "cell_type": "markdown",
   "metadata": {},
   "source": [
    "So, the majority of these users only edited on this one day. Does anyone know what caused this?"
   ]
  },
  {
   "cell_type": "code",
   "execution_count": null,
   "metadata": {
    "ExecuteTime": {
     "end_time": "2019-08-28T04:55:30.720349Z",
     "start_time": "2019-08-28T04:55:30.143047Z"
    }
   },
   "outputs": [],
   "source": [
    "ax = df['lifespan'].plot(kind='hist',bins=50,figsize=(10,5))\n",
    "ax.set_yscale('log')\n",
    "ax.set_xlabel(\"Number of Days between first and last edit\"); ax.set_ylabel(\"Number of mappers (log10)\", fontsize=12)\n",
    "ax.set_title(\"Histogram of mapper lifespans (time between first and last edit)\", fontsize=12);"
   ]
  },
  {
   "cell_type": "markdown",
   "metadata": {},
   "source": [
    "Pretty standard for online communities..."
   ]
  },
  {
   "cell_type": "code",
   "execution_count": null,
   "metadata": {},
   "outputs": [],
   "source": []
  }
 ],
 "metadata": {
  "hide_input": false,
  "kernelspec": {
   "display_name": "Python 3",
   "language": "python",
   "name": "python3"
  },
  "language_info": {
   "codemirror_mode": {
    "name": "ipython",
    "version": 3
   },
   "file_extension": ".py",
   "mimetype": "text/x-python",
   "name": "python",
   "nbconvert_exporter": "python",
   "pygments_lexer": "ipython3",
   "version": "3.6.8"
  },
  "varInspector": {
   "cols": {
    "lenName": 16,
    "lenType": 16,
    "lenVar": 40
   },
   "kernels_config": {
    "python": {
     "delete_cmd_postfix": "",
     "delete_cmd_prefix": "del ",
     "library": "var_list.py",
     "varRefreshCmd": "print(var_dic_list())"
    },
    "r": {
     "delete_cmd_postfix": ") ",
     "delete_cmd_prefix": "rm(",
     "library": "var_list.r",
     "varRefreshCmd": "cat(var_dic_list()) "
    }
   },
   "types_to_exclude": [
    "module",
    "function",
    "builtin_function_or_method",
    "instance",
    "_Feature"
   ],
   "window_display": false
  }
 },
 "nbformat": 4,
 "nbformat_minor": 2
}
