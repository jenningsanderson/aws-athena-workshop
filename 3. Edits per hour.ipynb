{
 "cells": [
  {
   "cell_type": "markdown",
   "metadata": {},
   "source": [
    "This is a Jupyter Notebook.\n",
    "\n",
    "To run a cell, type `Shift` + `Return`. Run the cell below to get started"
   ]
  },
  {
   "cell_type": "code",
   "execution_count": null,
   "metadata": {
    "ExecuteTime": {
     "end_time": "2019-08-28T03:54:54.393621Z",
     "start_time": "2019-08-28T03:54:53.881028Z"
    }
   },
   "outputs": [],
   "source": [
    "from workshop_utils import * \n",
    "import pandas as pd\n",
    "import matplotlib.pyplot as plt\n",
    "import matplotlib.dates as mdates\n",
    "import seaborn as sns\n",
    "import datetime\n",
    "%matplotlib inline\n",
    "%config InlineBackend.figure_format = 'retina'"
   ]
  },
  {
   "cell_type": "markdown",
   "metadata": {},
   "source": [
    "# Edits Per Hour Example\n",
    "\n",
    "_Tacloban, Philippines_\n",
    "\n",
    "These next cells will load the output from the following query in Athena:\n",
    "\n",
    "```sql\n",
    "SELECT date_trunc('hour', updated), avg( date_diff('minute', updated, valid_until) ) AS avg_lifespan_minutes, count(distinct(changesets.uid)) AS num_users, count(*) AS edits, count(distinct(southeastern_asia.id)) AS objects\n",
    "FROM southeastern_asia\n",
    "JOIN changesets\n",
    "    ON southeastern_asia.changeset = changesets.id\n",
    "WHERE ST_WITHIN( geom , ST_Polygon('POLYGON((124.980451 11.265362, 125.03352 11.265362, 125.03352 11.17746, 124.980451 11.17746, 124.980451 11.265362))') )\n",
    "GROUP BY  date_trunc('hour', updated)\n",
    "```"
   ]
  },
  {
   "cell_type": "code",
   "execution_count": null,
   "metadata": {
    "scrolled": true
   },
   "outputs": [],
   "source": [
    "#Tacloban, Philippines by hour: \n",
    "tacloban = load_dataframe_from_s3('4c65e9b0-13fc-416b-bc40-12f7d70348b0')\n"
   ]
  },
  {
   "cell_type": "code",
   "execution_count": null,
   "metadata": {
    "scrolled": true
   },
   "outputs": [],
   "source": [
    "tacloban.head(2)"
   ]
  },
  {
   "cell_type": "code",
   "execution_count": null,
   "metadata": {},
   "outputs": [],
   "source": [
    "#Rename the columns so they make more sense\n",
    "tacloban.columns = [\"date\", \"lifespan_minutes\", \"num_users\", \"edits\", \"objects\"]\n",
    "\n",
    "#Cast the date as date\n",
    "tacloban['datetime'] = tacloban.date.apply(pd.Timestamp)\n",
    "\n",
    "#Reindex (and sort)by date becuase the original query was organized that way\n",
    "tacloban.set_index('datetime', inplace=True)\n",
    "tacloban.sort_index(inplace=True)\n",
    "\n",
    "#Add two new columns:\n",
    "tacloban['lifespan_days'] = tacloban.lifespan_minutes.apply(lambda x: x/(60*24))\n",
    "tacloban['object_percent'] = tacloban.objects / tacloban.objects.sum()\n",
    "\n",
    "#Finally, show the new dataframe\n",
    "tacloban.head(3)"
   ]
  },
  {
   "cell_type": "code",
   "execution_count": null,
   "metadata": {
    "scrolled": false
   },
   "outputs": [],
   "source": [
    "sns.set_style('whitegrid')\n",
    "# fig, ax = plt.subplots(figsize=(15,7))\n",
    "ax = tacloban['objects'].plot(figsize=(15,8))\n",
    "ax.set_xlabel(\"Date\"); ax.set_ylabel(\"\"); \n",
    "ax.set_title(\"Objects edited in Tacloban\",fontsize=16);"
   ]
  },
  {
   "cell_type": "code",
   "execution_count": null,
   "metadata": {},
   "outputs": [],
   "source": [
    "# Same plot, but zoom in on November 2013: \n",
    "\n",
    "sns.set_style('whitegrid')\n",
    "fig, ax = plt.subplots(figsize=(15,7))\n",
    "tacloban['objects'].plot(figsize=(15,8), ax=ax)\n",
    "ax.set_xlabel(\"Date\"); ax.set_ylabel(\"\"); \n",
    "ax.set_title(\"Objects edited in Tacloban in November 2013\",fontsize=16);\n",
    "ax.set_xlim([datetime.date(2013,11,1), datetime.date(2013,11,30)])\n",
    "\n",
    "#set ticks every day\n",
    "ax.xaxis.set_major_locator(mdates.DayLocator())\n",
    "#set major ticks format\n",
    "ax.xaxis.set_major_formatter(mdates.DateFormatter('%b %d'))"
   ]
  },
  {
   "cell_type": "code",
   "execution_count": null,
   "metadata": {},
   "outputs": [],
   "source": [
    "# How many users are editing the map here each day?\n",
    "ax = tacloban['num_users'].plot(figsize=(14,4))\n",
    "ax.set_xlabel(\"Date\"); ax.set_ylabel(\"\");\n",
    "ax.set_title(\"Users editing in Tacloban\",fontsize=16);\n",
    "# ax.set_xlim([datetime.date(2013,11,1), datetime.date(2013,11,30)])\n"
   ]
  },
  {
   "cell_type": "code",
   "execution_count": null,
   "metadata": {},
   "outputs": [],
   "source": [
    "print(\"In total, the number of edits in Tacloban is: {:,}\".format(tacloban.edits.sum()))"
   ]
  },
  {
   "cell_type": "markdown",
   "metadata": {},
   "source": [
    "## Again, retrieve all of the actual buildings from Athena \n"
   ]
  },
  {
   "cell_type": "markdown",
   "metadata": {},
   "source": [
    "```sql    \n",
    "SELECT southeastern_asia.id AS id,\n",
    "             southeastern_asia.type AS type,\n",
    "             southeastern_asia.geom AS geom,\n",
    "             southeastern_asia.tags AS b_tags,\n",
    "             southeastern_asia.changeset,\n",
    "             southeastern_asia.updated,\n",
    "             southeastern_asia.valid_until,\n",
    "             southeastern_asia.version,\n",
    "             southeastern_asia.minor_version,\n",
    "             changesets.id,\n",
    "             changesets.uid,\n",
    "             changesets.user,\n",
    "             changesets.tags AS c_tags\n",
    "    FROM southeastern_asia\n",
    "    JOIN changesets\n",
    "        ON southeastern_asia.changeset = changesets.id\n",
    "    WHERE ST_WITHIN( geom , ST_Polygon('POLYGON((124.980451 11.265362, 125.03352 11.265362, 125.03352 11.17746, 124.980451 11.17746, 124.980451 11.265362))') )\n",
    "            AND element_at(southeastern_asia.tags, 'building') IS NOT NULL\n",
    "```"
   ]
  },
  {
   "cell_type": "code",
   "execution_count": null,
   "metadata": {},
   "outputs": [],
   "source": [
    "buildings = load_dataframe_from_s3('6eceee06-c6df-44f2-a084-dee157c688cd')\n"
   ]
  },
  {
   "cell_type": "code",
   "execution_count": null,
   "metadata": {},
   "outputs": [],
   "source": [
    "buildings['hour'] = buildings.updated.apply(pd.Timestamp)"
   ]
  },
  {
   "cell_type": "code",
   "execution_count": null,
   "metadata": {},
   "outputs": [],
   "source": [
    "buildings.head(2)"
   ]
  },
  {
   "cell_type": "code",
   "execution_count": null,
   "metadata": {},
   "outputs": [],
   "source": [
    "ax = buildings.groupby('hour').aggregate('count')['id'].plot(style=\"o\", figsize=(15,8))\n",
    "ax.set_title(\"Edits to buildings each hour in Tacloban, Philippines\");"
   ]
  },
  {
   "cell_type": "code",
   "execution_count": null,
   "metadata": {},
   "outputs": [],
   "source": [
    "ax = buildings[buildings.minor_version>0].groupby('hour').aggregate('count')['id'].plot(style='o', figsize=(15,8))\n",
    "ax.set_title(\"Adjustments to building geometries by hour in Tacloban, Philippines\");\n",
    "ax.set_xlim(datetime.datetime(2013,11,1),datetime.datetime(2013,11,30));\n"
   ]
  },
  {
   "cell_type": "code",
   "execution_count": null,
   "metadata": {},
   "outputs": [],
   "source": [
    "ax = buildings[(buildings.version==1) & (buildings.minor_version==0)].groupby(\n",
    "    'hour').aggregate('count')['id'].plot(figsize=(15,8), style=\"o\", label=\"New Buildings Added\")\n",
    "buildings[buildings.minor_version>0].groupby('hour').aggregate(\n",
    "    'count')['id'].plot(style='o', figsize=(15,8), ax=ax, label=\"Geometries adjusted\")\n",
    "ax.set_title(\"Adjustments to building geometries by hour in Tacloban, Philippines\");\n",
    "ax.set_xlim(datetime.datetime(2013,11,1),datetime.datetime(2013,12,31))\n",
    "ax.legend();"
   ]
  },
  {
   "cell_type": "code",
   "execution_count": null,
   "metadata": {},
   "outputs": [],
   "source": []
  }
 ],
 "metadata": {
  "hide_input": false,
  "kernelspec": {
   "display_name": "Python 3",
   "language": "python",
   "name": "python3"
  },
  "language_info": {
   "codemirror_mode": {
    "name": "ipython",
    "version": 3
   },
   "file_extension": ".py",
   "mimetype": "text/x-python",
   "name": "python",
   "nbconvert_exporter": "python",
   "pygments_lexer": "ipython3",
   "version": "3.6.8"
  },
  "varInspector": {
   "cols": {
    "lenName": 16,
    "lenType": 16,
    "lenVar": 40
   },
   "kernels_config": {
    "python": {
     "delete_cmd_postfix": "",
     "delete_cmd_prefix": "del ",
     "library": "var_list.py",
     "varRefreshCmd": "print(var_dic_list())"
    },
    "r": {
     "delete_cmd_postfix": ") ",
     "delete_cmd_prefix": "rm(",
     "library": "var_list.r",
     "varRefreshCmd": "cat(var_dic_list()) "
    }
   },
   "types_to_exclude": [
    "module",
    "function",
    "builtin_function_or_method",
    "instance",
    "_Feature"
   ],
   "window_display": false
  }
 },
 "nbformat": 4,
 "nbformat_minor": 2
}
