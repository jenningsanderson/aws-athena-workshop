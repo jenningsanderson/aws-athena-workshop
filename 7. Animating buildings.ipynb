{
 "cells": [
  {
   "cell_type": "markdown",
   "metadata": {},
   "source": [
    "To run a cell, type `Shift` + `Return`. Run the cell below to get started"
   ]
  },
  {
   "cell_type": "code",
   "execution_count": 1,
   "metadata": {
    "ExecuteTime": {
     "end_time": "2019-08-28T04:39:10.355145Z",
     "start_time": "2019-08-28T04:39:10.343440Z"
    }
   },
   "outputs": [
    {
     "data": {
      "application/vnd.jupyter.widget-view+json": {
       "model_id": "aaf5fd537e70493b91acf0fa9cd4b983",
       "version_major": 2,
       "version_minor": 0
      },
      "text/plain": [
       "HBox(children=(IntProgress(value=1, bar_style='info', max=1), HTML(value='')))"
      ]
     },
     "metadata": {},
     "output_type": "display_data"
    },
    {
     "name": "stdout",
     "output_type": "stream",
     "text": [
      "\n"
     ]
    }
   ],
   "source": [
    "from workshop_utils import * \n",
    "import pandas as pd\n",
    "import matplotlib.pyplot as plt\n",
    "import matplotlib.dates as mdates\n",
    "import seaborn as sns\n",
    "import datetime\n",
    "import geopandas as gpd\n",
    "import shapely\n",
    "%matplotlib inline\n",
    "%config InlineBackend.figure_format = 'retina'\n",
    "from tqdm import tqdm_notebook as tqdm\n",
    "tqdm().pandas();"
   ]
  },
  {
   "cell_type": "markdown",
   "metadata": {},
   "source": [
    "# Buildings, buildings buildings\n"
   ]
  },
  {
   "cell_type": "markdown",
   "metadata": {},
   "source": [
    "Getting the buildings from task https://tasks.hotosm.org/project/4690\n",
    "\n",
    "```sql\n",
    "SELECT\n",
    "  subsaharan_africa.id, \n",
    "  geom,\n",
    "  subsaharan_africa.tags, changeset, updated, valid_until, version, minor_version,\n",
    "  changesets.id AS c_id, \n",
    "  changesets.tags as c_tags,\n",
    "  changesets.uid,\n",
    "  changesets.user\n",
    "  \n",
    "FROM subsaharan_africa\n",
    "\n",
    "JOIN changesets on subsaharan_africa.changeset = changesets.id\n",
    "\n",
    "WHERE   \n",
    "  element_at(subsaharan_africa.tags, 'building') IS NOT NULL AND ST_WITHIN(\n",
    "  geom , \n",
    "  ST_POLYGON('POLYGON((17.8183 0.0461, 18.9637 0.0461, 18.9637 -0.9686, 17.8183 -0.9686, 17.8183 0.0461))'))\n",
    "\n",
    "ORDER BY updated\n",
    "```"
   ]
  },
  {
   "cell_type": "code",
   "execution_count": 20,
   "metadata": {
    "ExecuteTime": {
     "end_time": "2019-08-28T04:39:18.161330Z",
     "start_time": "2019-08-28T04:39:12.634791Z"
    },
    "scrolled": true
   },
   "outputs": [
    {
     "name": "stderr",
     "output_type": "stream",
     "text": [
      "Downloading from S3... Query results saved to: \n",
      "/www/ba10a1bb-3347-4c40-a1ae-2f8ff63f344a.csv\n",
      "Creating dataframe... done.  Found 133,927 rows"
     ]
    }
   ],
   "source": [
    "building_edits = load_dataframe_from_s3('https://us-east-2.console.aws.amazon.com/athena/query/results/ba10a1bb-3347-4c40-a1ae-2f8ff63f344a/csv')\n"
   ]
  },
  {
   "cell_type": "code",
   "execution_count": 21,
   "metadata": {},
   "outputs": [],
   "source": [
    "place = \"Mbandaka - Bikoro\""
   ]
  },
  {
   "cell_type": "code",
   "execution_count": 23,
   "metadata": {
    "ExecuteTime": {
     "end_time": "2019-08-28T04:39:19.178890Z",
     "start_time": "2019-08-28T04:39:19.165205Z"
    },
    "scrolled": true
   },
   "outputs": [
    {
     "data": {
      "text/html": [
       "<div>\n",
       "<style scoped>\n",
       "    .dataframe tbody tr th:only-of-type {\n",
       "        vertical-align: middle;\n",
       "    }\n",
       "\n",
       "    .dataframe tbody tr th {\n",
       "        vertical-align: top;\n",
       "    }\n",
       "\n",
       "    .dataframe thead th {\n",
       "        text-align: right;\n",
       "    }\n",
       "</style>\n",
       "<table border=\"1\" class=\"dataframe\">\n",
       "  <thead>\n",
       "    <tr style=\"text-align: right;\">\n",
       "      <th></th>\n",
       "      <th>id</th>\n",
       "      <th>geom</th>\n",
       "      <th>tags</th>\n",
       "      <th>changeset</th>\n",
       "      <th>updated</th>\n",
       "      <th>valid_until</th>\n",
       "      <th>version</th>\n",
       "      <th>minor_version</th>\n",
       "      <th>c_id</th>\n",
       "      <th>c_tags</th>\n",
       "      <th>uid</th>\n",
       "      <th>user</th>\n",
       "    </tr>\n",
       "  </thead>\n",
       "  <tbody>\n",
       "    <tr>\n",
       "      <td>0</td>\n",
       "      <td>205007052</td>\n",
       "      <td>POLYGON ((18.2499352 0.0439872, 18.2499358 0.0...</td>\n",
       "      <td>{building=yes}</td>\n",
       "      <td>14989051</td>\n",
       "      <td>2013-02-11 01:02:26.000</td>\n",
       "      <td>2018-05-12 17:49:31.000</td>\n",
       "      <td>1</td>\n",
       "      <td>0</td>\n",
       "      <td>14989051</td>\n",
       "      <td>{comment=Drawing buildings (source=Bing), Mban...</td>\n",
       "      <td>190626</td>\n",
       "      <td>clairedelune</td>\n",
       "    </tr>\n",
       "    <tr>\n",
       "      <td>1</td>\n",
       "      <td>205007054</td>\n",
       "      <td>POLYGON ((18.248523 0.0454874, 18.2485153 0.04...</td>\n",
       "      <td>{building=yes}</td>\n",
       "      <td>14989051</td>\n",
       "      <td>2013-02-11 01:02:26.000</td>\n",
       "      <td>NaN</td>\n",
       "      <td>1</td>\n",
       "      <td>0</td>\n",
       "      <td>14989051</td>\n",
       "      <td>{comment=Drawing buildings (source=Bing), Mban...</td>\n",
       "      <td>190626</td>\n",
       "      <td>clairedelune</td>\n",
       "    </tr>\n",
       "  </tbody>\n",
       "</table>\n",
       "</div>"
      ],
      "text/plain": [
       "          id                                               geom  \\\n",
       "0  205007052  POLYGON ((18.2499352 0.0439872, 18.2499358 0.0...   \n",
       "1  205007054  POLYGON ((18.248523 0.0454874, 18.2485153 0.04...   \n",
       "\n",
       "             tags  changeset                  updated  \\\n",
       "0  {building=yes}   14989051  2013-02-11 01:02:26.000   \n",
       "1  {building=yes}   14989051  2013-02-11 01:02:26.000   \n",
       "\n",
       "               valid_until  version  minor_version      c_id  \\\n",
       "0  2018-05-12 17:49:31.000        1              0  14989051   \n",
       "1                      NaN        1              0  14989051   \n",
       "\n",
       "                                              c_tags     uid          user  \n",
       "0  {comment=Drawing buildings (source=Bing), Mban...  190626  clairedelune  \n",
       "1  {comment=Drawing buildings (source=Bing), Mban...  190626  clairedelune  "
      ]
     },
     "execution_count": 23,
     "metadata": {},
     "output_type": "execute_result"
    }
   ],
   "source": [
    "building_edits.head(2)"
   ]
  },
  {
   "cell_type": "code",
   "execution_count": 24,
   "metadata": {
    "ExecuteTime": {
     "end_time": "2019-08-28T04:40:51.676386Z",
     "start_time": "2019-08-28T04:40:49.501301Z"
    }
   },
   "outputs": [
    {
     "data": {
      "application/vnd.jupyter.widget-view+json": {
       "model_id": "92f4f56c5563491184e08d1ab37633cc",
       "version_major": 2,
       "version_minor": 0
      },
      "text/plain": [
       "HBox(children=(IntProgress(value=0, max=133927), HTML(value='')))"
      ]
     },
     "metadata": {},
     "output_type": "display_data"
    },
    {
     "name": "stdout",
     "output_type": "stream",
     "text": [
      "\n"
     ]
    },
    {
     "data": {
      "application/vnd.jupyter.widget-view+json": {
       "model_id": "fdbe091f0a504507ba47112ed5198561",
       "version_major": 2,
       "version_minor": 0
      },
      "text/plain": [
       "HBox(children=(IntProgress(value=0, max=133927), HTML(value='')))"
      ]
     },
     "metadata": {},
     "output_type": "display_data"
    },
    {
     "name": "stdout",
     "output_type": "stream",
     "text": [
      "\n"
     ]
    }
   ],
   "source": [
    "#Cast the date as date\n",
    "building_edits['updated'] = building_edits.updated.progress_apply(pd.Timestamp)\n",
    "building_edits['date'] = building_edits.updated.progress_apply(pd.Timestamp.date)"
   ]
  },
  {
   "cell_type": "code",
   "execution_count": 25,
   "metadata": {
    "ExecuteTime": {
     "end_time": "2019-08-28T04:41:56.125260Z",
     "start_time": "2019-08-28T04:41:55.682108Z"
    }
   },
   "outputs": [
    {
     "data": {
      "text/html": [
       "<div>\n",
       "<style scoped>\n",
       "    .dataframe tbody tr th:only-of-type {\n",
       "        vertical-align: middle;\n",
       "    }\n",
       "\n",
       "    .dataframe tbody tr th {\n",
       "        vertical-align: top;\n",
       "    }\n",
       "\n",
       "    .dataframe thead th {\n",
       "        text-align: right;\n",
       "    }\n",
       "</style>\n",
       "<table border=\"1\" class=\"dataframe\">\n",
       "  <thead>\n",
       "    <tr style=\"text-align: right;\">\n",
       "      <th></th>\n",
       "      <th>c_id</th>\n",
       "      <th>id</th>\n",
       "      <th>uid</th>\n",
       "    </tr>\n",
       "    <tr>\n",
       "      <th>date</th>\n",
       "      <th></th>\n",
       "      <th></th>\n",
       "      <th></th>\n",
       "    </tr>\n",
       "  </thead>\n",
       "  <tbody>\n",
       "    <tr>\n",
       "      <td>2013-02-11</td>\n",
       "      <td>34</td>\n",
       "      <td>34</td>\n",
       "      <td>1</td>\n",
       "    </tr>\n",
       "    <tr>\n",
       "      <td>2013-02-24</td>\n",
       "      <td>39</td>\n",
       "      <td>39</td>\n",
       "      <td>1</td>\n",
       "    </tr>\n",
       "  </tbody>\n",
       "</table>\n",
       "</div>"
      ],
      "text/plain": [
       "            c_id  id  uid\n",
       "date                     \n",
       "2013-02-11    34  34    1\n",
       "2013-02-24    39  39    1"
      ]
     },
     "execution_count": 25,
     "metadata": {},
     "output_type": "execute_result"
    }
   ],
   "source": [
    "gb_date = building_edits.groupby('date').aggregate({\n",
    "    'c_id':'count',\n",
    "    'id':'nunique',\n",
    "    'uid':'nunique'\n",
    "});\n",
    "gb_date.head(2)"
   ]
  },
  {
   "cell_type": "code",
   "execution_count": 26,
   "metadata": {
    "ExecuteTime": {
     "end_time": "2019-08-28T04:41:57.021874Z",
     "start_time": "2019-08-28T04:41:56.837793Z"
    },
    "scrolled": false
   },
   "outputs": [
    {
     "data": {
      "image/png": "[encoded data removed]",
      "text/plain": [
       "<Figure size 1008x288 with 1 Axes>"
      ]
     },
     "metadata": {
      "image/png": {
       "height": 279,
       "width": 834
      }
     },
     "output_type": "display_data"
    }
   ],
   "source": [
    "sns.set_style('whitegrid')\n",
    "ax = gb_date['c_id'].plot(figsize=(14,4))\n",
    "ax.set_xlabel(\"Date\"); ax.set_ylabel(\"\");\n",
    "ax.set_title(\"Edits in {}\".format(place),fontsize=16);"
   ]
  },
  {
   "cell_type": "code",
   "execution_count": 27,
   "metadata": {
    "ExecuteTime": {
     "end_time": "2019-08-28T04:42:14.471947Z",
     "start_time": "2019-08-28T04:42:14.289916Z"
    }
   },
   "outputs": [
    {
     "data": {
      "image/png": "[encoded data removed]",
      "text/plain": [
       "<Figure size 1008x288 with 1 Axes>"
      ]
     },
     "metadata": {
      "image/png": {
       "height": 279,
       "width": 815
      }
     },
     "output_type": "display_data"
    }
   ],
   "source": [
    "sns.set_style('whitegrid')\n",
    "ax = gb_date['uid'].plot(style='.', figsize=(14,4))\n",
    "ax.set_xlabel(\"Date\"); ax.set_ylabel(\"\");\n",
    "ax.set_title(\"Unique editors active per day in {}\".format(place),fontsize=16);"
   ]
  },
  {
   "cell_type": "code",
   "execution_count": 28,
   "metadata": {},
   "outputs": [],
   "source": [
    "from shapely import wkt"
   ]
  },
  {
   "cell_type": "code",
   "execution_count": 29,
   "metadata": {},
   "outputs": [
    {
     "data": {
      "application/vnd.jupyter.widget-view+json": {
       "model_id": "bdd20b8dff8d47338ed6a00955223ed0",
       "version_major": 2,
       "version_minor": 0
      },
      "text/plain": [
       "HBox(children=(IntProgress(value=0, max=133927), HTML(value='')))"
      ]
     },
     "metadata": {},
     "output_type": "display_data"
    },
    {
     "name": "stdout",
     "output_type": "stream",
     "text": [
      "\n"
     ]
    }
   ],
   "source": [
    "building_edits['geom'] = building_edits.geom.progress_apply(wkt.loads) #Makes the geometry an actual object..."
   ]
  },
  {
   "cell_type": "code",
   "execution_count": 30,
   "metadata": {},
   "outputs": [],
   "source": [
    "objects = gpd.GeoDataFrame(building_edits, geometry='geom')"
   ]
  },
  {
   "cell_type": "code",
   "execution_count": 31,
   "metadata": {},
   "outputs": [],
   "source": [
    "objects['date'] = objects.updated.apply(lambda x: x.isoformat())"
   ]
  },
  {
   "cell_type": "code",
   "execution_count": 32,
   "metadata": {
    "scrolled": false
   },
   "outputs": [
    {
     "name": "stdout",
     "output_type": "stream",
     "text": [
      "User Guide: https://github.com/keplergl/kepler.gl/blob/master/docs/keplergl-jupyter/user-guide.md\n"
     ]
    }
   ],
   "source": [
    "from keplergl import KeplerGl \n",
    "map_1 = KeplerGl(height=600)"
   ]
  },
  {
   "cell_type": "code",
   "execution_count": 33,
   "metadata": {},
   "outputs": [
    {
     "data": {
      "application/vnd.jupyter.widget-view+json": {
       "model_id": "6a557345607145bb92a31fcb17444f8b",
       "version_major": 2,
       "version_minor": 0
      },
      "text/plain": [
       "KeplerGl(height=600)"
      ]
     },
     "metadata": {},
     "output_type": "display_data"
    }
   ],
   "source": [
    "map_1"
   ]
  },
  {
   "cell_type": "code",
   "execution_count": 37,
   "metadata": {},
   "outputs": [],
   "source": [
    "map_1.add_data(data=objects[objects.updated > datetime.datetime(2018,1,1)][['geom','changeset','date','user','version','minor_version']], name='objects')"
   ]
  },
  {
   "cell_type": "code",
   "execution_count": null,
   "metadata": {},
   "outputs": [],
   "source": []
  },
  {
   "cell_type": "code",
   "execution_count": null,
   "metadata": {},
   "outputs": [],
   "source": []
  },
  {
   "cell_type": "code",
   "execution_count": null,
   "metadata": {},
   "outputs": [],
   "source": []
  },
  {
   "cell_type": "code",
   "execution_count": null,
   "metadata": {},
   "outputs": [],
   "source": []
  },
  {
   "cell_type": "code",
   "execution_count": null,
   "metadata": {},
   "outputs": [],
   "source": []
  },
  {
   "cell_type": "code",
   "execution_count": null,
   "metadata": {},
   "outputs": [],
   "source": []
  },
  {
   "cell_type": "code",
   "execution_count": null,
   "metadata": {},
   "outputs": [],
   "source": []
  },
  {
   "cell_type": "code",
   "execution_count": 78,
   "metadata": {},
   "outputs": [],
   "source": [
    "import geopandas as gpd\n",
    "from shapely.geometry import Polygon\n",
    "import numpy as np\n",
    "\n",
    "def make_grid(length=0.1,width=0.1):\n",
    "    xmin,ymin,xmax,ymax = points.total_bounds\n",
    "\n",
    "    length = 0.1\n",
    "    wide = 0.1\n",
    "\n",
    "    cols = list(np.arange(int(np.floor(xmin)), int(np.ceil(xmax)), wide))\n",
    "    rows = list(np.arange(int(np.floor(ymin)), int(np.ceil(ymax)), length))\n",
    "    rows.reverse()\n",
    "\n",
    "    polygons = []\n",
    "    ids = []; count=0\n",
    "    for x in cols:\n",
    "        for y in rows:\n",
    "            count = count + 1\n",
    "            ids.append(count)\n",
    "            polygons.append( Polygon([(x,y), (x+wide, y), (x+wide, y-length), (x, y-length)]) )\n",
    "\n",
    "    return gpd.GeoDataFrame({'geometry':polygons, 'PolyID':ids})"
   ]
  },
  {
   "cell_type": "code",
   "execution_count": 79,
   "metadata": {},
   "outputs": [],
   "source": [
    "grid = make_grid()"
   ]
  },
  {
   "cell_type": "code",
   "execution_count": 80,
   "metadata": {},
   "outputs": [
    {
     "data": {
      "text/plain": [
       "<matplotlib.axes._subplots.AxesSubplot at 0x7f95e7cc67f0>"
      ]
     },
     "execution_count": 80,
     "metadata": {},
     "output_type": "execute_result"
    },
    {
     "data": {
      "image/png": "[encoded data removed]",
      "text/plain": [
       "<Figure size 432x288 with 1 Axes>"
      ]
     },
     "metadata": {
      "image/png": {
       "height": 252,
       "width": 376
      }
     },
     "output_type": "display_data"
    }
   ],
   "source": [
    "grid.plot()"
   ]
  },
  {
   "cell_type": "code",
   "execution_count": 87,
   "metadata": {},
   "outputs": [],
   "source": [
    "dfsjoin = gpd.sjoin(grid,points) #Spatial join Points to polygons\n",
    "dfpivot = pd.pivot_table(dfsjoin,index='PolyID',columns='id',aggfunc={'id':len})\n",
    "dfpivot.columns = dfpivot.columns.droplevel()\n",
    "\n",
    "dfpolynew = grid.merge(dfpivot, how='left',on='PolyID')"
   ]
  },
  {
   "cell_type": "code",
   "execution_count": 88,
   "metadata": {},
   "outputs": [
    {
     "data": {
      "text/html": [
       "<div>\n",
       "<style scoped>\n",
       "    .dataframe tbody tr th:only-of-type {\n",
       "        vertical-align: middle;\n",
       "    }\n",
       "\n",
       "    .dataframe tbody tr th {\n",
       "        vertical-align: top;\n",
       "    }\n",
       "\n",
       "    .dataframe thead th {\n",
       "        text-align: right;\n",
       "    }\n",
       "</style>\n",
       "<table border=\"1\" class=\"dataframe\">\n",
       "  <thead>\n",
       "    <tr style=\"text-align: right;\">\n",
       "      <th></th>\n",
       "      <th>geometry</th>\n",
       "      <th>PolyID</th>\n",
       "      <th>900353</th>\n",
       "      <th>1191518</th>\n",
       "      <th>4430069</th>\n",
       "      <th>5889030</th>\n",
       "      <th>7727664</th>\n",
       "      <th>21652877</th>\n",
       "      <th>21653368</th>\n",
       "      <th>21653667</th>\n",
       "      <th>...</th>\n",
       "      <th>5969324157</th>\n",
       "      <th>5972770387</th>\n",
       "      <th>5972792002</th>\n",
       "      <th>6106367211</th>\n",
       "      <th>6175651620</th>\n",
       "      <th>6192578385</th>\n",
       "      <th>6271952213</th>\n",
       "      <th>6319680655</th>\n",
       "      <th>6416588872</th>\n",
       "      <th>6446619251</th>\n",
       "    </tr>\n",
       "  </thead>\n",
       "  <tbody>\n",
       "    <tr>\n",
       "      <td>0</td>\n",
       "      <td>POLYGON ((-68 18.90000000000003, -67.900000000...</td>\n",
       "      <td>1</td>\n",
       "      <td>NaN</td>\n",
       "      <td>NaN</td>\n",
       "      <td>NaN</td>\n",
       "      <td>NaN</td>\n",
       "      <td>NaN</td>\n",
       "      <td>NaN</td>\n",
       "      <td>NaN</td>\n",
       "      <td>NaN</td>\n",
       "      <td>...</td>\n",
       "      <td>NaN</td>\n",
       "      <td>NaN</td>\n",
       "      <td>NaN</td>\n",
       "      <td>NaN</td>\n",
       "      <td>NaN</td>\n",
       "      <td>NaN</td>\n",
       "      <td>NaN</td>\n",
       "      <td>NaN</td>\n",
       "      <td>NaN</td>\n",
       "      <td>NaN</td>\n",
       "    </tr>\n",
       "    <tr>\n",
       "      <td>1</td>\n",
       "      <td>POLYGON ((-68 18.80000000000003, -67.900000000...</td>\n",
       "      <td>2</td>\n",
       "      <td>NaN</td>\n",
       "      <td>NaN</td>\n",
       "      <td>NaN</td>\n",
       "      <td>NaN</td>\n",
       "      <td>NaN</td>\n",
       "      <td>NaN</td>\n",
       "      <td>NaN</td>\n",
       "      <td>NaN</td>\n",
       "      <td>...</td>\n",
       "      <td>NaN</td>\n",
       "      <td>NaN</td>\n",
       "      <td>NaN</td>\n",
       "      <td>NaN</td>\n",
       "      <td>NaN</td>\n",
       "      <td>NaN</td>\n",
       "      <td>NaN</td>\n",
       "      <td>NaN</td>\n",
       "      <td>NaN</td>\n",
       "      <td>NaN</td>\n",
       "    </tr>\n",
       "    <tr>\n",
       "      <td>2</td>\n",
       "      <td>POLYGON ((-68 18.70000000000002, -67.900000000...</td>\n",
       "      <td>3</td>\n",
       "      <td>NaN</td>\n",
       "      <td>NaN</td>\n",
       "      <td>NaN</td>\n",
       "      <td>NaN</td>\n",
       "      <td>NaN</td>\n",
       "      <td>NaN</td>\n",
       "      <td>NaN</td>\n",
       "      <td>NaN</td>\n",
       "      <td>...</td>\n",
       "      <td>NaN</td>\n",
       "      <td>NaN</td>\n",
       "      <td>NaN</td>\n",
       "      <td>NaN</td>\n",
       "      <td>NaN</td>\n",
       "      <td>NaN</td>\n",
       "      <td>NaN</td>\n",
       "      <td>NaN</td>\n",
       "      <td>NaN</td>\n",
       "      <td>NaN</td>\n",
       "    </tr>\n",
       "    <tr>\n",
       "      <td>3</td>\n",
       "      <td>POLYGON ((-68 18.60000000000002, -67.900000000...</td>\n",
       "      <td>4</td>\n",
       "      <td>NaN</td>\n",
       "      <td>NaN</td>\n",
       "      <td>NaN</td>\n",
       "      <td>NaN</td>\n",
       "      <td>NaN</td>\n",
       "      <td>NaN</td>\n",
       "      <td>NaN</td>\n",
       "      <td>NaN</td>\n",
       "      <td>...</td>\n",
       "      <td>NaN</td>\n",
       "      <td>NaN</td>\n",
       "      <td>NaN</td>\n",
       "      <td>NaN</td>\n",
       "      <td>NaN</td>\n",
       "      <td>NaN</td>\n",
       "      <td>NaN</td>\n",
       "      <td>NaN</td>\n",
       "      <td>NaN</td>\n",
       "      <td>NaN</td>\n",
       "    </tr>\n",
       "    <tr>\n",
       "      <td>4</td>\n",
       "      <td>POLYGON ((-68 18.50000000000002, -67.900000000...</td>\n",
       "      <td>5</td>\n",
       "      <td>NaN</td>\n",
       "      <td>NaN</td>\n",
       "      <td>NaN</td>\n",
       "      <td>NaN</td>\n",
       "      <td>NaN</td>\n",
       "      <td>NaN</td>\n",
       "      <td>NaN</td>\n",
       "      <td>NaN</td>\n",
       "      <td>...</td>\n",
       "      <td>NaN</td>\n",
       "      <td>NaN</td>\n",
       "      <td>NaN</td>\n",
       "      <td>NaN</td>\n",
       "      <td>NaN</td>\n",
       "      <td>NaN</td>\n",
       "      <td>NaN</td>\n",
       "      <td>NaN</td>\n",
       "      <td>NaN</td>\n",
       "      <td>NaN</td>\n",
       "    </tr>\n",
       "  </tbody>\n",
       "</table>\n",
       "<p>5 rows × 9978 columns</p>\n",
       "</div>"
      ],
      "text/plain": [
       "                                            geometry  PolyID  900353  1191518  \\\n",
       "0  POLYGON ((-68 18.90000000000003, -67.900000000...       1     NaN      NaN   \n",
       "1  POLYGON ((-68 18.80000000000003, -67.900000000...       2     NaN      NaN   \n",
       "2  POLYGON ((-68 18.70000000000002, -67.900000000...       3     NaN      NaN   \n",
       "3  POLYGON ((-68 18.60000000000002, -67.900000000...       4     NaN      NaN   \n",
       "4  POLYGON ((-68 18.50000000000002, -67.900000000...       5     NaN      NaN   \n",
       "\n",
       "   4430069  5889030  7727664  21652877  21653368  21653667  ...  5969324157  \\\n",
       "0      NaN      NaN      NaN       NaN       NaN       NaN  ...         NaN   \n",
       "1      NaN      NaN      NaN       NaN       NaN       NaN  ...         NaN   \n",
       "2      NaN      NaN      NaN       NaN       NaN       NaN  ...         NaN   \n",
       "3      NaN      NaN      NaN       NaN       NaN       NaN  ...         NaN   \n",
       "4      NaN      NaN      NaN       NaN       NaN       NaN  ...         NaN   \n",
       "\n",
       "   5972770387  5972792002  6106367211  6175651620  6192578385  6271952213  \\\n",
       "0         NaN         NaN         NaN         NaN         NaN         NaN   \n",
       "1         NaN         NaN         NaN         NaN         NaN         NaN   \n",
       "2         NaN         NaN         NaN         NaN         NaN         NaN   \n",
       "3         NaN         NaN         NaN         NaN         NaN         NaN   \n",
       "4         NaN         NaN         NaN         NaN         NaN         NaN   \n",
       "\n",
       "   6319680655  6416588872  6446619251  \n",
       "0         NaN         NaN         NaN  \n",
       "1         NaN         NaN         NaN  \n",
       "2         NaN         NaN         NaN  \n",
       "3         NaN         NaN         NaN  \n",
       "4         NaN         NaN         NaN  \n",
       "\n",
       "[5 rows x 9978 columns]"
      ]
     },
     "execution_count": 88,
     "metadata": {},
     "output_type": "execute_result"
    }
   ],
   "source": [
    "dfpolynew.head()"
   ]
  },
  {
   "cell_type": "code",
   "execution_count": 65,
   "metadata": {},
   "outputs": [
    {
     "data": {
      "text/plain": [
       "<matplotlib.axes._subplots.AxesSubplot at 0x7f9600b3fcc0>"
      ]
     },
     "execution_count": 65,
     "metadata": {},
     "output_type": "execute_result"
    },
    {
     "data": {
      "image/png": "[encoded data removed]",
      "text/plain": [
       "<Figure size 432x288 with 1 Axes>"
      ]
     },
     "metadata": {
      "image/png": {
       "height": 154,
       "width": 378
      }
     },
     "output_type": "display_data"
    }
   ],
   "source": [
    "points.plot()"
   ]
  },
  {
   "cell_type": "code",
   "execution_count": null,
   "metadata": {},
   "outputs": [],
   "source": []
  }
 ],
 "metadata": {
  "hide_input": false,
  "kernelspec": {
   "display_name": "Python 3",
   "language": "python",
   "name": "python3"
  },
  "language_info": {
   "codemirror_mode": {
    "name": "ipython",
    "version": 3
   },
   "file_extension": ".py",
   "mimetype": "text/x-python",
   "name": "python",
   "nbconvert_exporter": "python",
   "pygments_lexer": "ipython3",
   "version": "3.6.8"
  },
  "varInspector": {
   "cols": {
    "lenName": 16,
    "lenType": 16,
    "lenVar": 40
   },
   "kernels_config": {
    "python": {
     "delete_cmd_postfix": "",
     "delete_cmd_prefix": "del ",
     "library": "var_list.py",
     "varRefreshCmd": "print(var_dic_list())"
    },
    "r": {
     "delete_cmd_postfix": ") ",
     "delete_cmd_prefix": "rm(",
     "library": "var_list.r",
     "varRefreshCmd": "cat(var_dic_list()) "
    }
   },
   "types_to_exclude": [
    "module",
    "function",
    "builtin_function_or_method",
    "instance",
    "_Feature"
   ],
   "window_display": false
  }
 },
 "nbformat": 4,
 "nbformat_minor": 2
}
