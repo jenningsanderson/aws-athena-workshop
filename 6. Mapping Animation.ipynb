{
 "cells": [
  {
   "cell_type": "markdown",
   "metadata": {},
   "source": [
    "To run a cell, type `Shift` + `Return`. Run the cell below to get started"
   ]
  },
  {
   "cell_type": "code",
   "execution_count": null,
   "metadata": {
    "ExecuteTime": {
     "end_time": "2019-08-28T04:39:10.355145Z",
     "start_time": "2019-08-28T04:39:10.343440Z"
    }
   },
   "outputs": [],
   "source": [
    "from workshop_utils import * \n",
    "import pandas as pd\n",
    "import matplotlib.pyplot as plt\n",
    "import matplotlib.dates as mdates\n",
    "import seaborn as sns\n",
    "import datetime\n",
    "import geopandas as gpd\n",
    "import shapely\n",
    "%matplotlib inline\n",
    "%config InlineBackend.figure_format = 'retina'\n",
    "from tqdm import tqdm_notebook as tqdm\n",
    "tqdm().pandas();"
   ]
  },
  {
   "cell_type": "markdown",
   "metadata": {},
   "source": [
    "# Puerto Rico Example\n"
   ]
  },
  {
   "cell_type": "markdown",
   "metadata": {},
   "source": [
    "The following query gets all of the edits (ever), joined to changesets for all objects in Puerto Rico... it should take some time to download.\n",
    "\n",
    "```sql\n",
    "SELECT\n",
    "  central_america.id, \n",
    "  geom,\n",
    "  central_america.tags, changeset, updated, valid_until, version, minor_version,\n",
    "  changesets.id AS c_id, \n",
    "  changesets.tags as c_tags,\n",
    "  changesets.uid,\n",
    "  changesets.user\n",
    "  \n",
    "FROM central_america\n",
    "\n",
    "JOIN changesets on central_america.changeset = changesets.id\n",
    "\n",
    "WHERE ST_WITHIN(\n",
    "  geom , \n",
    "  ST_POLYGON('POLYGON((-67.3066 18.5729, -65.5553 18.5729, -65.5553 17.8729, -67.3066 17.8729, -67.3066 18.5729))'))\n",
    "ORDER BY updated\n",
    "```"
   ]
  },
  {
   "cell_type": "code",
   "execution_count": null,
   "metadata": {
    "ExecuteTime": {
     "end_time": "2019-08-28T04:39:18.161330Z",
     "start_time": "2019-08-28T04:39:12.634791Z"
    },
    "scrolled": true
   },
   "outputs": [],
   "source": [
    "# edits = load_dataframe_from_s3('https://us-east-2.console.aws.amazon.com/athena/query/results/116fe037-6c95-4517-b52b-de3ecc3ba763/csv')\n",
    "#edits = load_dataframe_from_s3('https://us-east-2.console.aws.amazon.com/athena/query/results/5e4ea35a-0c61-4a79-8af0-77e18612ed13/csv')\n",
    "edits = load_dataframe_from_s3('https://us-east-2.console.aws.amazon.com/athena/query/results/45b14013-55ee-49a3-98e2-6fb47e45302d/csv')\n"
   ]
  },
  {
   "cell_type": "code",
   "execution_count": null,
   "metadata": {},
   "outputs": [],
   "source": [
    "place = \"NW Puerto Rico\""
   ]
  },
  {
   "cell_type": "code",
   "execution_count": null,
   "metadata": {
    "ExecuteTime": {
     "end_time": "2019-08-28T04:39:19.178890Z",
     "start_time": "2019-08-28T04:39:19.165205Z"
    },
    "scrolled": true
   },
   "outputs": [],
   "source": [
    "edits.head(2)"
   ]
  },
  {
   "cell_type": "code",
   "execution_count": null,
   "metadata": {
    "ExecuteTime": {
     "end_time": "2019-08-28T04:40:51.676386Z",
     "start_time": "2019-08-28T04:40:49.501301Z"
    }
   },
   "outputs": [],
   "source": [
    "#Cast the date as date\n",
    "edits['updated'] = edits.updated.progress_apply(pd.Timestamp)\n",
    "edits['date'] = edits.updated.progress_apply(pd.Timestamp.date)"
   ]
  },
  {
   "cell_type": "code",
   "execution_count": null,
   "metadata": {
    "ExecuteTime": {
     "end_time": "2019-08-28T04:41:56.125260Z",
     "start_time": "2019-08-28T04:41:55.682108Z"
    }
   },
   "outputs": [],
   "source": [
    "gb_date = edits.groupby('date').aggregate({\n",
    "    'c_id':'count',\n",
    "    'id':'nunique',\n",
    "    'uid':'nunique'\n",
    "});\n",
    "gb_date.head(2)"
   ]
  },
  {
   "cell_type": "code",
   "execution_count": null,
   "metadata": {
    "ExecuteTime": {
     "end_time": "2019-08-28T04:41:57.021874Z",
     "start_time": "2019-08-28T04:41:56.837793Z"
    },
    "scrolled": false
   },
   "outputs": [],
   "source": [
    "sns.set_style('whitegrid')\n",
    "ax = gb_date['c_id'].plot(figsize=(14,4))\n",
    "ax.set_xlabel(\"Date\"); ax.set_ylabel(\"\");\n",
    "ax.set_title(\"Edits in {}\".format(place),fontsize=16);"
   ]
  },
  {
   "cell_type": "markdown",
   "metadata": {},
   "source": [
    "### Question: What's the spike in 2007? "
   ]
  },
  {
   "cell_type": "code",
   "execution_count": null,
   "metadata": {
    "ExecuteTime": {
     "end_time": "2019-08-28T04:42:14.471947Z",
     "start_time": "2019-08-28T04:42:14.289916Z"
    }
   },
   "outputs": [],
   "source": [
    "sns.set_style('whitegrid')\n",
    "ax = gb_date['uid'].plot(style='.', figsize=(14,4))\n",
    "ax.set_xlabel(\"Date\"); ax.set_ylabel(\"\");\n",
    "ax.set_title(\"Unique editors active per day in Port Au Prince\",fontsize=16);"
   ]
  },
  {
   "cell_type": "markdown",
   "metadata": {},
   "source": [
    "### Note, there is no user spike in 2007..."
   ]
  },
  {
   "cell_type": "code",
   "execution_count": null,
   "metadata": {},
   "outputs": [],
   "source": [
    "after_tiger = edits[edits.updated > datetime.datetime(2010,1,1)]"
   ]
  },
  {
   "cell_type": "code",
   "execution_count": null,
   "metadata": {},
   "outputs": [],
   "source": [
    "from shapely import wkt"
   ]
  },
  {
   "cell_type": "code",
   "execution_count": null,
   "metadata": {},
   "outputs": [],
   "source": [
    "sample2 = after_tiger.sample(100000) #just sample 100k objects"
   ]
  },
  {
   "cell_type": "code",
   "execution_count": null,
   "metadata": {},
   "outputs": [],
   "source": [
    "sample2.geom = sample2.geom.progress_apply(wkt.loads)"
   ]
  },
  {
   "cell_type": "code",
   "execution_count": null,
   "metadata": {},
   "outputs": [],
   "source": [
    "sample2['date'] = sample2.updated.apply(lambda x: x.isoformat())"
   ]
  },
  {
   "cell_type": "code",
   "execution_count": null,
   "metadata": {
    "scrolled": true
   },
   "outputs": [],
   "source": [
    "objects = gpd.GeoDataFrame(sample2, geometry='geom')"
   ]
  },
  {
   "cell_type": "code",
   "execution_count": null,
   "metadata": {
    "scrolled": false
   },
   "outputs": [],
   "source": [
    "from keplergl import KeplerGl \n",
    "map_1 = KeplerGl(height=600)\n",
    "map_1"
   ]
  },
  {
   "cell_type": "code",
   "execution_count": null,
   "metadata": {},
   "outputs": [],
   "source": [
    "map_1.add_data(data=objects[['geom','changeset','date','user']], name='objects')"
   ]
  },
  {
   "cell_type": "markdown",
   "metadata": {},
   "source": [
    "## Make it interactive\n",
    "\n",
    "From the sidebar on the left, add a filter to the 'objects' layer on 'date'\n",
    "\n",
    "Also, set layer blending to \"normal\" to highlight where the most edits are happening"
   ]
  },
  {
   "cell_type": "code",
   "execution_count": null,
   "metadata": {},
   "outputs": [],
   "source": []
  }
 ],
 "metadata": {
  "hide_input": false,
  "kernelspec": {
   "display_name": "Python 3",
   "language": "python",
   "name": "python3"
  },
  "language_info": {
   "codemirror_mode": {
    "name": "ipython",
    "version": 3
   },
   "file_extension": ".py",
   "mimetype": "text/x-python",
   "name": "python",
   "nbconvert_exporter": "python",
   "pygments_lexer": "ipython3",
   "version": "3.6.8"
  },
  "varInspector": {
   "cols": {
    "lenName": 16,
    "lenType": 16,
    "lenVar": 40
   },
   "kernels_config": {
    "python": {
     "delete_cmd_postfix": "",
     "delete_cmd_prefix": "del ",
     "library": "var_list.py",
     "varRefreshCmd": "print(var_dic_list())"
    },
    "r": {
     "delete_cmd_postfix": ") ",
     "delete_cmd_prefix": "rm(",
     "library": "var_list.r",
     "varRefreshCmd": "cat(var_dic_list()) "
    }
   },
   "types_to_exclude": [
    "module",
    "function",
    "builtin_function_or_method",
    "instance",
    "_Feature"
   ],
   "window_display": false
  }
 },
 "nbformat": 4,
 "nbformat_minor": 2
}
