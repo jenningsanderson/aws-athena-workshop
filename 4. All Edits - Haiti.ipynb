{
 "cells": [
  {
   "cell_type": "markdown",
   "metadata": {},
   "source": [
    "To run a cell, type `Shift` + `Return`. Run the cell below to get started"
   ]
  },
  {
   "cell_type": "code",
   "execution_count": null,
   "metadata": {
    "ExecuteTime": {
     "end_time": "2019-08-28T04:06:55.124477Z",
     "start_time": "2019-08-28T04:06:54.598694Z"
    }
   },
   "outputs": [],
   "source": [
    "from workshop_utils import * \n",
    "import pandas as pd\n",
    "import matplotlib.pyplot as plt\n",
    "import matplotlib.dates as mdates\n",
    "import seaborn as sns\n",
    "import datetime\n",
    "from tqdm import tqdm_notebook as tqdm\n",
    "tqdm().pandas();\n",
    "%matplotlib inline\n",
    "%config InlineBackend.figure_format = 'retina'"
   ]
  },
  {
   "cell_type": "markdown",
   "metadata": {},
   "source": [
    "# All Edits Example\n",
    "\n"
   ]
  },
  {
   "cell_type": "markdown",
   "metadata": {},
   "source": [
    "The following query gets all of the edits (ever), joined to changesets for all objects in Haiti... it should take some time to download.\n",
    "\n",
    "```sql\n",
    "SELECT\n",
    "  central_america.id, \n",
    "  geom,\n",
    "  central_america.tags, changeset, updated, valid_until, version, minor_version,\n",
    "  changesets.id AS c_id, \n",
    "  changesets.tags as c_tags,\n",
    "  changesets.uid,\n",
    "  changesets.user\n",
    "  \n",
    "FROM central_america\n",
    "\n",
    "JOIN changesets on central_america.changeset = changesets.id\n",
    "\n",
    "WHERE ST_WITHIN(\n",
    "  geom , \n",
    "  ST_Polygon('POLYGON((-74.4862 20.1269, -71.5923 20.1269, -71.5923 17.9824, -74.4862 17.9824, -74.4862 20.1269))')\n",
    ")```"
   ]
  },
  {
   "cell_type": "code",
   "execution_count": null,
   "metadata": {
    "ExecuteTime": {
     "end_time": "2019-08-28T04:12:38.847748Z",
     "start_time": "2019-08-28T04:06:56.197767Z"
    },
    "scrolled": true
   },
   "outputs": [],
   "source": [
    "edits = load_dataframe_from_s3('https://us-east-2.console.aws.amazon.com/athena/query/results/aec9795f-0e38-478e-b884-c3f531b5e712/csv')\n"
   ]
  },
  {
   "cell_type": "code",
   "execution_count": null,
   "metadata": {
    "ExecuteTime": {
     "end_time": "2019-08-28T04:13:20.977223Z",
     "start_time": "2019-08-28T04:13:20.964196Z"
    },
    "scrolled": true
   },
   "outputs": [],
   "source": [
    "edits.head(2)"
   ]
  },
  {
   "cell_type": "code",
   "execution_count": null,
   "metadata": {
    "ExecuteTime": {
     "end_time": "2019-08-28T04:14:05.171506Z",
     "start_time": "2019-08-28T04:13:59.999746Z"
    }
   },
   "outputs": [],
   "source": [
    "#Cast the date as date\n",
    "edits['updated'] = edits.updated.progress_apply(pd.Timestamp)"
   ]
  },
  {
   "cell_type": "code",
   "execution_count": null,
   "metadata": {
    "ExecuteTime": {
     "end_time": "2019-08-28T04:14:39.601139Z",
     "start_time": "2019-08-28T04:14:32.648832Z"
    }
   },
   "outputs": [],
   "source": [
    "edits['date'] = edits.updated.progress_apply(pd.Timestamp.date)"
   ]
  },
  {
   "cell_type": "code",
   "execution_count": null,
   "metadata": {
    "ExecuteTime": {
     "end_time": "2019-08-28T04:16:17.917448Z",
     "start_time": "2019-08-28T04:16:16.074599Z"
    }
   },
   "outputs": [],
   "source": [
    "gb_date = edits.groupby('date').aggregate({\n",
    "    'c_id':'count',\n",
    "    'id':'nunique',\n",
    "    'uid':'nunique'\n",
    "});\n",
    "gb_date.head(2)"
   ]
  },
  {
   "cell_type": "code",
   "execution_count": null,
   "metadata": {
    "ExecuteTime": {
     "end_time": "2019-08-28T04:20:50.824099Z",
     "start_time": "2019-08-28T04:20:50.621718Z"
    },
    "scrolled": false
   },
   "outputs": [],
   "source": [
    "sns.set_style('whitegrid')\n",
    "ax = gb_date['c_id'].plot(style='.', figsize=(14,4))\n",
    "ax.set_xlabel(\"Date\"); ax.set_ylabel(\"\");\n",
    "ax.set_title(\"Edits in Haiti\",fontsize=16);"
   ]
  },
  {
   "cell_type": "code",
   "execution_count": null,
   "metadata": {
    "ExecuteTime": {
     "end_time": "2019-08-28T04:21:33.714140Z",
     "start_time": "2019-08-28T04:21:33.520030Z"
    }
   },
   "outputs": [],
   "source": [
    "sns.set_style('whitegrid')\n",
    "ax = gb_date['uid'].plot(style='.', figsize=(14,4))\n",
    "ax.set_xlabel(\"Date\"); ax.set_ylabel(\"\");\n",
    "ax.set_title(\"Unique editors active per day in Haiti\",fontsize=16);"
   ]
  },
  {
   "cell_type": "markdown",
   "metadata": {},
   "source": [
    "### `Minor Version`\n",
    "\n",
    "We can use the `minor version` attribute to identify geometry updates to buildings. This can be a form of validation behavior. identifying spikes in the occurence of these can identify map validation."
   ]
  },
  {
   "cell_type": "code",
   "execution_count": null,
   "metadata": {
    "ExecuteTime": {
     "end_time": "2019-08-28T04:43:26.797306Z",
     "start_time": "2019-08-28T04:43:26.313009Z"
    }
   },
   "outputs": [],
   "source": [
    "ax = edits[edits.minor_version>0].groupby('date').aggregate('count')['id'].plot(figsize=(14,4))\n",
    "ax.set_title(\"Adjustments to geometries each day in Haiti\",fontsize=16);"
   ]
  },
  {
   "cell_type": "markdown",
   "metadata": {},
   "source": [
    "What is the most edited object? "
   ]
  },
  {
   "cell_type": "code",
   "execution_count": null,
   "metadata": {
    "ExecuteTime": {
     "end_time": "2019-08-28T04:44:06.464222Z",
     "start_time": "2019-08-28T04:44:05.581635Z"
    }
   },
   "outputs": [],
   "source": [
    "# This is a bit hacky, but it definitely works\n",
    "most_edited_object = pd.DataFrame(edits[edits.id==edits.sort_values(\n",
    "    by='version',ascending=False).id.values[0]].sort_values(\n",
    "      by=['version','minor_version'],ascending=False))\n",
    "\n",
    "print(\"most edited building: http://openstreetmap.org/way/{}\\nThe most recent three edits:\".format(most_edited_object.id.values[0]))\n",
    "\n",
    "most_edited_object.head(3)"
   ]
  },
  {
   "cell_type": "code",
   "execution_count": null,
   "metadata": {},
   "outputs": [],
   "source": []
  }
 ],
 "metadata": {
  "hide_input": false,
  "kernelspec": {
   "display_name": "Python 3",
   "language": "python",
   "name": "python3"
  },
  "language_info": {
   "codemirror_mode": {
    "name": "ipython",
    "version": 3
   },
   "file_extension": ".py",
   "mimetype": "text/x-python",
   "name": "python",
   "nbconvert_exporter": "python",
   "pygments_lexer": "ipython3",
   "version": "3.6.8"
  },
  "varInspector": {
   "cols": {
    "lenName": 16,
    "lenType": 16,
    "lenVar": 40
   },
   "kernels_config": {
    "python": {
     "delete_cmd_postfix": "",
     "delete_cmd_prefix": "del ",
     "library": "var_list.py",
     "varRefreshCmd": "print(var_dic_list())"
    },
    "r": {
     "delete_cmd_postfix": ") ",
     "delete_cmd_prefix": "rm(",
     "library": "var_list.r",
     "varRefreshCmd": "cat(var_dic_list()) "
    }
   },
   "types_to_exclude": [
    "module",
    "function",
    "builtin_function_or_method",
    "instance",
    "_Feature"
   ],
   "window_display": false
  }
 },
 "nbformat": 4,
 "nbformat_minor": 2
}
