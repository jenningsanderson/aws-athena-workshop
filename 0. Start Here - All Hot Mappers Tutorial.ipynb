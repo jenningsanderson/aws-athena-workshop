{
 "cells": [
  {
   "cell_type": "markdown",
   "metadata": {},
   "source": [
    "#### This is a Jupyter Notebook running Python 3\n",
    "\n",
    "To run a cell, type `Shift` + `Return`. Run the cell below to get started. This will initialize our environment"
   ]
  },
  {
   "cell_type": "code",
   "execution_count": null,
   "metadata": {
    "ExecuteTime": {
     "end_time": "2019-09-11T22:16:09.395512Z",
     "start_time": "2019-09-11T22:16:08.124992Z"
    }
   },
   "outputs": [],
   "source": [
    "from workshop_utils import *\n",
    "import pandas as pd; import seaborn as sns; import datetime\n",
    "import matplotlib.pyplot as plt; import matplotlib.dates as mdates; import matplotlib.colors as colors; import matplotlib.ticker\n",
    "%matplotlib inline\n",
    "%config InlineBackend.figure_format = 'retina' # Make figures look good for hi-res displays."
   ]
  },
  {
   "cell_type": "markdown",
   "metadata": {},
   "source": [
    "## Statistics about all mappers who have made a HOT-related changeset\n",
    "\n",
    "The query we just ran:\n",
    "```sql\n",
    "SELECT\n",
    "    changesets.user,\n",
    "    min(created_at) AS first_edit, \n",
    "    max(created_at) AS last_edit, \n",
    "    date_diff('day', min(created_at), max(created_at)) AS lifespan,\n",
    "    sum(num_changes) AS total_edits\n",
    "FROM \n",
    "    changesets\n",
    "WHERE\n",
    "    changesets.tags['comment'] LIKE '%hotosm%' -- hotosm changesets only\n",
    "GROUP BY \n",
    "    changesets.user \n",
    "ORDER BY lifespan DESC\n",
    "```\n",
    "\n",
    "This query generated a CSV file with 140k rows, one per user who has made a HOT-related changeset. Now we want to obtain that CSV file, which was automatically saved to an Amazon S3 bucket.\n",
    "\n",
    "### Getting the data from S3"
   ]
  },
  {
   "cell_type": "markdown",
   "metadata": {},
   "source": [
    "The `load_dataframe_from_s3` function takes either the full URL: \n",
    "\n",
    "    https://us-east-2.console.aws.amazon.com/athena/query/results/23f6baab-b1c7-40b5-902c-42901f2447df/csv\n",
    "    \n",
    "Or just the 36 character `Query ID`:\n",
    "\n",
    "    23f6baab-b1c7-40b5-902c-42901f2447df\n",
    "    \n",
    "This function downloads the query results to the `/www` directory (unless it already exists), and then returns a `Pandas DataFrame`. To run it, just paste either the URL or the query ID as a string (wrap in quotes) into the next cell: "
   ]
  },
  {
   "cell_type": "code",
   "execution_count": null,
   "metadata": {
    "ExecuteTime": {
     "end_time": "2019-09-11T22:16:52.149079Z",
     "start_time": "2019-09-11T22:16:52.146665Z"
    }
   },
   "outputs": [],
   "source": [
    "#Paste the link or query ID here: \n",
    "query = 'https://us-east-2.console.aws.amazon.com/athena/query/results/23f6baab-b1c7-40b5-902c-42901f2447df/csv'"
   ]
  },
  {
   "cell_type": "code",
   "execution_count": null,
   "metadata": {
    "ExecuteTime": {
     "end_time": "2019-09-11T22:17:26.322450Z",
     "start_time": "2019-09-11T22:17:25.826319Z"
    }
   },
   "outputs": [],
   "source": [
    "#This next cell loads the data\n",
    "df = load_dataframe_from_s3(query)"
   ]
  },
  {
   "cell_type": "markdown",
   "metadata": {},
   "source": [
    "We can look at the first few rows of our data with the `.head()` command:"
   ]
  },
  {
   "cell_type": "code",
   "execution_count": null,
   "metadata": {
    "ExecuteTime": {
     "end_time": "2019-09-11T22:17:29.539840Z",
     "start_time": "2019-09-11T22:17:29.528633Z"
    }
   },
   "outputs": [],
   "source": [
    "df.head(2)"
   ]
  },
  {
   "cell_type": "markdown",
   "metadata": {},
   "source": [
    "Since we know our data is indexed by user and that first_edit and last_edit are dates, let's clean it up: "
   ]
  },
  {
   "cell_type": "code",
   "execution_count": null,
   "metadata": {
    "ExecuteTime": {
     "end_time": "2019-08-28T04:34:06.476883Z",
     "start_time": "2019-08-28T04:34:02.195506Z"
    }
   },
   "outputs": [],
   "source": [
    "df.set_index('user', inplace=True) #reset the index to usernames.\n",
    "df.first_edit = df.first_edit.apply(lambda x: pd.Timestamp(x)) # cast to datetime\n",
    "df.last_edit = df.last_edit.apply(lambda x: pd.Timestamp(x))   # cast to datetime\n",
    "# simplify by day\n",
    "df['first_day'] = df.first_edit.apply(pd.Timestamp.date)\n",
    "df['last_day'] = df.last_edit.apply(pd.Timestamp.date)"
   ]
  },
  {
   "cell_type": "code",
   "execution_count": null,
   "metadata": {
    "ExecuteTime": {
     "end_time": "2019-08-28T04:46:23.723606Z",
     "start_time": "2019-08-28T04:46:23.715326Z"
    }
   },
   "outputs": [],
   "source": [
    "#Let's see how we did: \n",
    "df.head(3)"
   ]
  },
  {
   "cell_type": "markdown",
   "metadata": {},
   "source": [
    "## Question 1: When did each of these users make their first HOT-related edit?"
   ]
  },
  {
   "cell_type": "code",
   "execution_count": null,
   "metadata": {
    "ExecuteTime": {
     "end_time": "2019-08-28T04:46:24.699563Z",
     "start_time": "2019-08-28T04:46:24.360715Z"
    }
   },
   "outputs": [],
   "source": [
    "sns.set_style('whitegrid')\n",
    "ax = df.groupby('first_day').aggregate('count')['total_edits'].plot(figsize=(14,4),legend=False)\n",
    "ax.set_xlabel(\"Date\"); ax.set_ylabel(\"Number of mappers\\nwith their first edit\", fontsize=16)\n",
    "ax.set_title(\"How many users started mapping each day?\", fontsize=16);"
   ]
  },
  {
   "cell_type": "markdown",
   "metadata": {},
   "source": [
    "Each of these spikes likely correlate to major events that bring many new HOT mappers to OSM. The first large spike in April 2015 is the Nepal Earthquake mapping response.\n",
    "\n",
    "## Question 2: How has the number of HOT mappers grown over time? \n",
    "\n",
    "Adding `.cumsum()` to get the cumulative sum per day, we can plot the growth: "
   ]
  },
  {
   "cell_type": "code",
   "execution_count": null,
   "metadata": {
    "ExecuteTime": {
     "end_time": "2019-08-28T04:46:25.548814Z",
     "start_time": "2019-08-28T04:46:25.201632Z"
    }
   },
   "outputs": [],
   "source": [
    "ax = df.groupby('first_day').aggregate('count')['total_edits'].cumsum().plot(figsize=(14,4))\n",
    "ax.set_xlabel(\"Date\"); \n",
    "ax.set_ylabel(\"Cumulative number\\nof HOT mappers\", fontsize=16)\n",
    "ax.set_title(\"Growth of Mappers over time\", fontsize=16);"
   ]
  },
  {
   "cell_type": "markdown",
   "metadata": {},
   "source": [
    "## Question 3: How long to HOT mappers stick around? \n",
    "\n",
    "Using the `lifespan` attribute, we can explore how long mappers stay with a histogram:"
   ]
  },
  {
   "cell_type": "code",
   "execution_count": null,
   "metadata": {
    "ExecuteTime": {
     "end_time": "2019-08-28T04:55:23.160402Z",
     "start_time": "2019-08-28T04:55:22.885513Z"
    },
    "scrolled": false
   },
   "outputs": [],
   "source": [
    "ax = df['lifespan'].plot(kind='hist',bins=50,figsize=(10,5))\n",
    "ax.set_yscale('log')\n",
    "ax.set_xlabel(\"Number of Days between first and last HOT edit\"); ax.set_ylabel(\"Number of mappers (log10)\", fontsize=12)\n",
    "ax.set_title(\"Histogram of HOT mapper lifespans (time between first and last HOT edit)\", fontsize=12);"
   ]
  },
  {
   "cell_type": "markdown",
   "metadata": {},
   "source": [
    "Note the logscale to show detail. Over 100k users map for one day or less. (This is common with all online communities). If we want to confirm these results, we could run the following query: \n",
    "\n",
    "```sql\n",
    "SELECT count(uid) FROM (\n",
    "  SELECT uid, \n",
    "         count(id) AS num_changesets,\n",
    "         date_diff('day', min(created_at), max(created_at)) AS lifespan\n",
    "  FROM changesets\n",
    "  WHERE lower(changesets.tags['comment']) LIKE '%hotosm%'\n",
    "  GROUP BY uid\n",
    ") WHERE lifespan > 1\n",
    "```\n",
    "This query returns ~ 35,374 rows, meaning that of our 140k HOT mappers, only 35k have mapped more than 1 day, so this figure showing that just over 100k users mapped only for 1 day seems accurate! (It's always good to cross-check our results)"
   ]
  },
  {
   "cell_type": "markdown",
   "metadata": {},
   "source": [
    "## Question 4: Lifespan based on join date?"
   ]
  },
  {
   "cell_type": "code",
   "execution_count": null,
   "metadata": {},
   "outputs": [],
   "source": [
    "df.head()"
   ]
  },
  {
   "cell_type": "code",
   "execution_count": null,
   "metadata": {},
   "outputs": [],
   "source": [
    "sns.set_style('dark')\n",
    "plt.figure(num=None, figsize=(15, 15), facecolor='w', edgecolor='k')\n",
    "plt.gca().xaxis.set_major_formatter(mdates.DateFormatter('%Y'))\n",
    "plt.gca().xaxis.set_major_locator(mdates.YearLocator())\n",
    "plt.gca().yaxis.set_major_formatter(mdates.DateFormatter('%Y'))\n",
    "plt.gca().yaxis.set_major_locator(mdates.YearLocator())\n",
    "plt.xlim([datetime.datetime(2012,1,1),datetime.datetime(2019,6,1)])\n",
    "plt.ylim([datetime.datetime(2012,1,1),datetime.datetime(2019,6,1)])\n",
    "plt.xlabel('Date of First Edit', fontsize=16)\n",
    "plt.ylabel('Date of Most Recent Edit', fontsize=16)\n",
    "plt.title(\"Timespan of HOT OSM Contributor Engagement\",fontsize=16)\n",
    "\n",
    "# few_edits  = df[df.sum_edits < 100]\n",
    "# some_edits = df[((df.sum_edits >= 100) & (df.sum_edits < 1000))]\n",
    "# most_edits = df[df.sum_edits >= 1000]\n",
    "\n",
    "few_edits  = df[df.total_edits < 10]\n",
    "some_edits = df[((df.total_edits >= 10) & (df.total_edits < 100))]\n",
    "many_edits = df[((df.total_edits >= 100) & (df.total_edits < 1000))]\n",
    "most_edits = df[df.total_edits >= 1000]\n",
    "\n",
    "plt.plot(most_edits['first_edit'], most_edits['last_edit'], '.', markersize=3, alpha=0.1,color='purple');\n",
    "plt.plot(many_edits['first_edit'], many_edits['last_edit'], '.', markersize=3, alpha=0.1,color='red');\n",
    "plt.plot(some_edits['first_edit'], some_edits['last_edit'], '.', markersize=3, alpha=0.1,color='orange');\n",
    "plt.plot(few_edits['first_edit'], few_edits['last_edit'], '.', markersize=3, alpha=0.1,color='yellow')\n",
    "\n",
    "lgnd = plt.legend([\n",
    "    'Mappers with more than 1000 edits',\n",
    "    'Mappers with between 100 and 1000 edits',\n",
    "    'Mappers with between 10 and 100 edits',\n",
    "    'Mappers with less than 10 edits'\n",
    "],fontsize=16);\n",
    "\n",
    "#change the marker size manually for both lines\n",
    "for lg in lgnd.legendHandles:\n",
    "    lg._legmarker.set_markersize(10)\n",
    "    lg._legmarker.set_alpha(1)"
   ]
  },
  {
   "cell_type": "markdown",
   "metadata": {},
   "source": [
    "This particular visualization is a recreation of results from [this paper](https://www.researchgate.net/publication/324557333_The_life_cycle_of_contributors_in_collaborative_online_communities_-the_case_of_OpenStreetMap) by Daniel Bégin et al.\n",
    "\n",
    "The yellow along the diagonal represent all of the 1-time contributors. However, the faint vertical lines represent mapping events that resulted in mappers sticking around; likewise, horizontal lines represent events where mappers who already had made HOT edits before participated in a single event and then didn't come back again."
   ]
  },
  {
   "cell_type": "markdown",
   "metadata": {},
   "source": [
    "## Next Steps\n",
    "\n",
    "This concludes the _Tutorial_ notebook. Return to the [Jupyter Home](http://workshop.yetilabs.science:8000/aws-hot-workshop) and check out other notebooks with more queries regarding specific areas of the map, roads, buildings, and more."
   ]
  },
  {
   "cell_type": "code",
   "execution_count": null,
   "metadata": {},
   "outputs": [],
   "source": []
  }
 ],
 "metadata": {
  "hide_input": false,
  "kernelspec": {
   "display_name": "Python 3",
   "language": "python",
   "name": "python3"
  },
  "language_info": {
   "codemirror_mode": {
    "name": "ipython",
    "version": 3
   },
   "file_extension": ".py",
   "mimetype": "text/x-python",
   "name": "python",
   "nbconvert_exporter": "python",
   "pygments_lexer": "ipython3",
   "version": "3.6.8"
  },
  "varInspector": {
   "cols": {
    "lenName": 16,
    "lenType": 16,
    "lenVar": 40
   },
   "kernels_config": {
    "python": {
     "delete_cmd_postfix": "",
     "delete_cmd_prefix": "del ",
     "library": "var_list.py",
     "varRefreshCmd": "print(var_dic_list())"
    },
    "r": {
     "delete_cmd_postfix": ") ",
     "delete_cmd_prefix": "rm(",
     "library": "var_list.r",
     "varRefreshCmd": "cat(var_dic_list()) "
    }
   },
   "types_to_exclude": [
    "module",
    "function",
    "builtin_function_or_method",
    "instance",
    "_Feature"
   ],
   "window_display": false
  }
 },
 "nbformat": 4,
 "nbformat_minor": 2
}
