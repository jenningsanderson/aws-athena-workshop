{
 "cells": [
  {
   "cell_type": "markdown",
   "metadata": {},
   "source": [
    "To run a cell, type `Shift` + `Return`. Run the cell below to get started"
   ]
  },
  {
   "cell_type": "code",
   "execution_count": null,
   "metadata": {
    "ExecuteTime": {
     "end_time": "2019-08-28T03:36:55.347712Z",
     "start_time": "2019-08-28T03:36:54.253522Z"
    }
   },
   "outputs": [],
   "source": [
    "from workshop_utils import * \n",
    "import pandas as pd\n",
    "import matplotlib.pyplot as plt\n",
    "import matplotlib.dates as mdates\n",
    "from matplotlib.ticker import StrMethodFormatter\n",
    "import seaborn as sns\n",
    "import datetime\n",
    "%matplotlib inline\n",
    "%config InlineBackend.figure_format = 'retina'"
   ]
  },
  {
   "cell_type": "markdown",
   "metadata": {},
   "source": [
    "# Buildings Example\n",
    "\n",
    "_Tacloban, Philippines_\n",
    "\n",
    "These next cells will load the output from the following query in Athena:\n",
    "\n",
    "```sql\n",
    "SELECT date_trunc('hour', updated), avg( date_diff('minute', updated, valid_until) ) AS avg_lifespan_minutes, count(distinct(changesets.uid)) AS num_users, count(*) AS new_buildings\n",
    "FROM southeastern_asia\n",
    "JOIN changesets on southeastern_asia.changeset = changesets.id\n",
    "WHERE ST_WITHIN( geom , ST_Polygon('POLYGON((124.909271 11.293189, 125.088518 11.293189, 125.088518 10.954934, 124.909271 10.954934, 124.909271 11.293189))') )\n",
    "        AND element_at(southeastern_asia.tags, 'building') IS NOT NULL\n",
    "        AND version = 1\n",
    "        AND minor_version < 1\n",
    "GROUP BY  date_trunc('hour', updated)\n",
    "```"
   ]
  },
  {
   "cell_type": "code",
   "execution_count": null,
   "metadata": {
    "ExecuteTime": {
     "end_time": "2019-08-28T03:37:28.171603Z",
     "start_time": "2019-08-28T03:37:27.813564Z"
    },
    "scrolled": true
   },
   "outputs": [],
   "source": [
    "#Tacloban, Philippines\n",
    "tacloban = load_dataframe_from_s3('https://us-east-2.console.aws.amazon.com/athena/query/results/5d020663-b325-49ac-930e-5bdd4ee88b39/csv')\n"
   ]
  },
  {
   "cell_type": "code",
   "execution_count": null,
   "metadata": {
    "ExecuteTime": {
     "end_time": "2019-08-28T03:37:30.830022Z",
     "start_time": "2019-08-28T03:37:30.820014Z"
    },
    "scrolled": true
   },
   "outputs": [],
   "source": [
    "tacloban.head(2)"
   ]
  },
  {
   "cell_type": "code",
   "execution_count": null,
   "metadata": {
    "ExecuteTime": {
     "end_time": "2019-08-28T03:37:48.247354Z",
     "start_time": "2019-08-28T03:37:48.219029Z"
    }
   },
   "outputs": [],
   "source": [
    "#Rename the columns so they make more sense\n",
    "tacloban.columns = [\"datetime\", \"lifespan_minutes\", \"num_users\", \"objects\"]\n",
    "\n",
    "#Cast the date as date\n",
    "tacloban['datetime'] = tacloban.datetime.apply(pd.Timestamp)\n",
    "\n",
    "#Reindex (and sort)by date becuase the original query was organized that way\n",
    "tacloban.set_index('datetime', inplace=True)\n",
    "tacloban.sort_index(inplace=True)\n",
    "\n",
    "#Add two new columns:\n",
    "tacloban['lifespan_days'] = tacloban.lifespan_minutes.apply(lambda x: x/(60*24))\n",
    "tacloban['object_percent'] = tacloban.objects / tacloban.objects.sum()\n",
    "\n",
    "#Finally, show the new dataframe\n",
    "tacloban.head(4)"
   ]
  },
  {
   "cell_type": "code",
   "execution_count": null,
   "metadata": {
    "ExecuteTime": {
     "end_time": "2019-08-28T03:37:50.456090Z",
     "start_time": "2019-08-28T03:37:50.242011Z"
    },
    "scrolled": false
   },
   "outputs": [],
   "source": [
    "sns.set_style('whitegrid')\n",
    "ax = tacloban['objects'].plot(style='.', figsize=(14,4))\n",
    "# tacloban['objects'].plot(ax=ax)\n",
    "ax.set_xlabel(\"Date\"); ax.set_ylabel(\"\");\n",
    "ax.set_title(\"When buildings were added in Tacloban, Philippines\",fontsize=16);"
   ]
  },
  {
   "cell_type": "code",
   "execution_count": null,
   "metadata": {
    "ExecuteTime": {
     "end_time": "2019-08-28T03:37:52.045701Z",
     "start_time": "2019-08-28T03:37:51.787242Z"
    }
   },
   "outputs": [],
   "source": [
    "sns.set_style('whitegrid')\n",
    "fig, ax = plt.subplots(figsize=(15,7))\n",
    "tacloban['objects'].cumsum().plot(figsize=(14,4), ax=ax)\n",
    "ax.set_xlabel(\"Date\"); ax.set_ylabel(\"\");\n",
    "ax.set_title(\"Impact of Typhoon Yolanda on Buildings in Tacloban\",fontsize=16);\n",
    "ax.set_xlim([datetime.date(2013,1,1), datetime.date(2015,1,1)])\n",
    "#set ticks every day\n",
    "ax.xaxis.set_major_locator(mdates.MonthLocator())\n",
    "#set major ticks format\n",
    "ax.xaxis.set_major_formatter(mdates.DateFormatter('%b %Y'))\n",
    "ax.yaxis.set_major_formatter(StrMethodFormatter('{x:,.0f}'))"
   ]
  },
  {
   "cell_type": "code",
   "execution_count": null,
   "metadata": {
    "ExecuteTime": {
     "end_time": "2019-08-28T03:37:56.109929Z",
     "start_time": "2019-08-28T03:37:55.889216Z"
    }
   },
   "outputs": [],
   "source": [
    "# These buildings were the work of how many users?\n",
    "ax = tacloban['num_users'].plot(style=\".\", figsize=(14,4))\n",
    "ax.set_xlabel(\"Date\"); ax.set_ylabel(\"\"); \n",
    "ax.set_title(\"Users adding new buildings in Tacloban, Philippines\",fontsize=16);\n",
    "# ax.set_xlim([datetime.date(2013,11,1), datetime.date(2013,11,30)]);\n"
   ]
  },
  {
   "cell_type": "code",
   "execution_count": null,
   "metadata": {
    "ExecuteTime": {
     "end_time": "2019-08-28T03:37:58.991450Z",
     "start_time": "2019-08-28T03:37:58.988262Z"
    }
   },
   "outputs": [],
   "source": [
    "print(\"The number of buildings in Tacloban is: {:,}\".format(tacloban.objects.sum()))"
   ]
  },
  {
   "cell_type": "markdown",
   "metadata": {},
   "source": [
    "## Now retrieve all of the actual buildings from Athena \n"
   ]
  },
  {
   "cell_type": "markdown",
   "metadata": {},
   "source": [
    "```sql\n",
    "SELECT southeastern_asia.id AS id,\n",
    "         southeastern_asia.type AS type,\n",
    "         southeastern_asia.geom AS geom,\n",
    "         southeastern_asia.tags AS b_tags,\n",
    "         southeastern_asia.changeset,\n",
    "         southeastern_asia.updated,\n",
    "         southeastern_asia.valid_until,\n",
    "         southeastern_asia.version,\n",
    "         southeastern_asia.minor_version,\n",
    "         changesets.id,\n",
    "         changesets.uid,\n",
    "         changesets.user,\n",
    "         changesets.tags AS c_tags\n",
    "FROM southeastern_asia\n",
    "JOIN changesets\n",
    "    ON southeastern_asia.changeset = changesets.id\n",
    "WHERE ST_WITHIN( geom , ST_Polygon('POLYGON((124.909271 11.293189, 125.088518 11.293189, 125.088518 10.954934, 124.909271 10.954934, 124.909271 11.293189))') )\n",
    "        AND element_at(southeastern_asia.tags, 'building') IS NOT NULL\n",
    "```"
   ]
  },
  {
   "cell_type": "code",
   "execution_count": null,
   "metadata": {
    "ExecuteTime": {
     "end_time": "2019-08-28T03:40:22.158288Z",
     "start_time": "2019-08-28T03:40:09.651906Z"
    }
   },
   "outputs": [],
   "source": [
    "buildings = load_dataframe_from_s3('https://us-east-2.console.aws.amazon.com/athena/query/results/77664a61-e7b4-4994-a09a-7546d93cb488/csv')\n"
   ]
  },
  {
   "cell_type": "code",
   "execution_count": null,
   "metadata": {
    "ExecuteTime": {
     "end_time": "2019-08-28T03:40:23.820148Z",
     "start_time": "2019-08-28T03:40:23.808610Z"
    }
   },
   "outputs": [],
   "source": [
    "buildings.head(2)"
   ]
  },
  {
   "cell_type": "code",
   "execution_count": null,
   "metadata": {
    "ExecuteTime": {
     "end_time": "2019-08-28T03:40:29.948681Z",
     "start_time": "2019-08-28T03:40:24.905042Z"
    }
   },
   "outputs": [],
   "source": [
    "# Cast timestamp to a date\n",
    "buildings['date'] = buildings.updated.apply(lambda x: pd.Timestamp(x).date())\n",
    "\n",
    "# How about the edit lifespan (time between edits)\n",
    "buildings['lifespan'] = buildings.apply(lambda row: pd.Timestamp(row.valid_until) - pd.Timestamp(row.updated), axis=1)"
   ]
  },
  {
   "cell_type": "code",
   "execution_count": null,
   "metadata": {},
   "outputs": [],
   "source": [
    "ax = buildings.groupby('date').aggregate('count')['id'].plot(style=\".\", figsize=(14,4))\n",
    "ax.set_title(\"Edits to buildings each day in Tacloban, Philippines\",fontsize=16);\n",
    "ax.yaxis.set_major_formatter(StrMethodFormatter('{x:,.0f}'));"
   ]
  },
  {
   "cell_type": "markdown",
   "metadata": {},
   "source": [
    "### `Minor Version`\n",
    "\n",
    "We can use the `minor version` attribute to identify geometry updates to buildings. This can be a form of validation behavior. identifying spikes in the occurence of these can identify map validation."
   ]
  },
  {
   "cell_type": "code",
   "execution_count": null,
   "metadata": {},
   "outputs": [],
   "source": [
    "ax = buildings[buildings.minor_version>0].groupby('date').aggregate('count')['id'].plot(figsize=(14,4))\n",
    "ax.set_title(\"Adjustments to building geometries each day in Tacloban, Philippines\",fontsize=16);"
   ]
  },
  {
   "cell_type": "markdown",
   "metadata": {},
   "source": [
    "What is the most edited building? "
   ]
  },
  {
   "cell_type": "code",
   "execution_count": null,
   "metadata": {},
   "outputs": [],
   "source": [
    "# This is a bit hacky, but it definitely works\n",
    "most_edited_building = pd.DataFrame(buildings[buildings.id==buildings.sort_values(\n",
    "    by='version',ascending=False).id.values[0]].sort_values(\n",
    "      by=['version','minor_version'],ascending=False))\n",
    "\n",
    "print(\"most edited building: http://openstreetmap.org/way/{}\\nThe most recent three edits:\".format(most_edited_building.id.values[0]))\n",
    "\n",
    "most_edited_building.head(3)"
   ]
  },
  {
   "cell_type": "code",
   "execution_count": null,
   "metadata": {},
   "outputs": [],
   "source": [
    "# Extending that, which buildings were edited by the most people?\n",
    "\n",
    "buildings.groupby('id').aggregate({\n",
    "    'uid':pd.Series.nunique,\n",
    "    'version':pd.Series.max,\n",
    "    'lifespan': pd.Series.mean\n",
    "}).sort_values(by='uid',ascending=False).head()"
   ]
  },
  {
   "cell_type": "markdown",
   "metadata": {},
   "source": [
    "# For comparison, look at Pokhara, Nepal:\n",
    "\n",
    "```sql\n",
    "SELECT date_trunc('day', updated), avg( date_diff('minute', updated, valid_until) ) AS lifespan_minutes, count(distinct(changeset)) AS changesets, count(*) AS objects\n",
    "FROM nepal\n",
    "WHERE ST_WITHIN( geom , ST_Polygon('POLYGON((83.783947 28.38623, 84.182564 28.38623, 84.182564 28.055363, 83.783947 28.055363, 83.783947 28.38623))') )\n",
    "        AND element_at(nepal.tags, 'building') IS NOT NULL\n",
    "        AND version = 1\n",
    "        AND minor_version < 1\n",
    "GROUP BY  date_trunc('day', updated)\n",
    "```"
   ]
  },
  {
   "cell_type": "code",
   "execution_count": null,
   "metadata": {
    "ExecuteTime": {
     "end_time": "2019-08-23T23:26:13.870906Z",
     "start_time": "2019-08-23T23:26:13.526736Z"
    }
   },
   "outputs": [],
   "source": [
    "# The above query was already run, results are here: \n",
    "df = load_dataframe_from_s3(\"https://us-east-2.console.aws.amazon.com/athena/query/results/83947f62-d3be-4aa5-8f76-fd1c2ef1ef67/csv\")\n"
   ]
  },
  {
   "cell_type": "code",
   "execution_count": null,
   "metadata": {},
   "outputs": [],
   "source": [
    "#What does the data look like?\n",
    "df.head(2)"
   ]
  },
  {
   "cell_type": "markdown",
   "metadata": {},
   "source": [
    "Rename columns and calculate a few new ones:"
   ]
  },
  {
   "cell_type": "code",
   "execution_count": null,
   "metadata": {
    "ExecuteTime": {
     "end_time": "2019-08-23T23:26:18.894201Z",
     "start_time": "2019-08-23T23:26:18.864008Z"
    }
   },
   "outputs": [],
   "source": [
    "#Rename the columns so they make more sense\n",
    "df.columns = [\"date\", \"lifespan_minutes\", \"changesets\", \"objects\"]\n",
    "\n",
    "#Cast the date as date\n",
    "df.date = df.date.apply(pd.Timestamp)\n",
    "\n",
    "#Reindex (and sort)by date becuase the original query was organized that way\n",
    "df.set_index('date', inplace=True)\n",
    "df.sort_index(inplace=True)\n",
    "\n",
    "#Add two new columns:\n",
    "df['lifespan_days'] = df.lifespan_minutes.apply(lambda x: x/(60*24))\n",
    "df['object_percent'] = df.objects / df.objects.sum()\n",
    "\n",
    "#Finally, show the new dataframe\n",
    "df.head(4)"
   ]
  },
  {
   "cell_type": "code",
   "execution_count": null,
   "metadata": {
    "ExecuteTime": {
     "end_time": "2019-08-23T23:27:16.407375Z",
     "start_time": "2019-08-23T23:27:16.261236Z"
    }
   },
   "outputs": [],
   "source": [
    "ax = df['objects'].plot(figsize=(14,4))\n",
    "ax.set_xlabel(\"Date\"); ax.set_ylabel(\"\"); ax.set_title(\"When buildings were added in Pokhara, Nepal\",fontsize=16);"
   ]
  },
  {
   "cell_type": "markdown",
   "metadata": {},
   "source": [
    "While we see the Earthquake in April 2015 has a major effect on the number of new buildings, we {\n",
    "\n",
    "The majority of the buildings in Pokhara, Nepal were not added after the earthquake. Instead, a year after the earthquake saw the largest building mapping efforts."
   ]
  },
  {
   "cell_type": "code",
   "execution_count": null,
   "metadata": {},
   "outputs": [],
   "source": [
    "ax = df['objects'].cumsum().plot(figsize=(14,4))\n",
    "ax.set_xlabel(\"Date\"); ax.set_ylabel(\"\"); ax.set_title(\"When buildings were added in Pokhara, Nepal\",fontsize=16);"
   ]
  },
  {
   "cell_type": "markdown",
   "metadata": {},
   "source": [
    "Direct comparison of the volume of buildings added to the map, annotated:"
   ]
  },
  {
   "cell_type": "code",
   "execution_count": null,
   "metadata": {},
   "outputs": [],
   "source": [
    "ax = df['objects'].cumsum().plot(figsize=(14,4), label=\"Pokhara, Nepal\")\n",
    "tacloban['objects'].cumsum().plot(ax=ax, label=\"Tacloban, Phillipines\")\n",
    "ax.set_xlabel(\"Date\"); ax.set_ylabel(\"\"); ax.set_title(\"When buildings were added (not edited) in Philippines & Nepal\",fontsize=16);\n",
    "ax.legend(fontsize=16);\n",
    "ax.yaxis.set_major_formatter(StrMethodFormatter('{x:,.0f}'))\n",
    "\n",
    "ax.vlines(datetime.datetime(2013,11,8),0,180000, color='gray',alpha=0.75, linestyle=\"--\");\n",
    "ax.vlines(datetime.datetime(2015,4,25),0,180000,color='gray',alpha=0.75, linestyle=\"--\");\n",
    "\n",
    "ax.text(x=datetime.datetime(2013,11,15),y=125000,s='Typhoon\\nHaiyan', fontsize=12);\n",
    "ax.text(x=datetime.datetime(2015,5,1),y=125000,s='Nepal\\nEarthquake', fontsize=12);\n"
   ]
  }
 ],
 "metadata": {
  "hide_input": false,
  "kernelspec": {
   "display_name": "Python 3",
   "language": "python",
   "name": "python3"
  },
  "language_info": {
   "codemirror_mode": {
    "name": "ipython",
    "version": 3
   },
   "file_extension": ".py",
   "mimetype": "text/x-python",
   "name": "python",
   "nbconvert_exporter": "python",
   "pygments_lexer": "ipython3",
   "version": "3.6.8"
  },
  "varInspector": {
   "cols": {
    "lenName": 16,
    "lenType": 16,
    "lenVar": 40
   },
   "kernels_config": {
    "python": {
     "delete_cmd_postfix": "",
     "delete_cmd_prefix": "del ",
     "library": "var_list.py",
     "varRefreshCmd": "print(var_dic_list())"
    },
    "r": {
     "delete_cmd_postfix": ") ",
     "delete_cmd_prefix": "rm(",
     "library": "var_list.r",
     "varRefreshCmd": "cat(var_dic_list()) "
    }
   },
   "types_to_exclude": [
    "module",
    "function",
    "builtin_function_or_method",
    "instance",
    "_Feature"
   ],
   "window_display": false
  }
 },
 "nbformat": 4,
 "nbformat_minor": 2
}
