{
 "cells": [
  {
   "cell_type": "markdown",
   "metadata": {},
   "source": [
    "To run a cell, type `Shift` + `Return`. Run the cell below to get started"
   ]
  },
  {
   "cell_type": "code",
   "execution_count": 89,
   "metadata": {
    "ExecuteTime": {
     "end_time": "2019-08-28T04:39:10.355145Z",
     "start_time": "2019-08-28T04:39:10.343440Z"
    }
   },
   "outputs": [
    {
     "data": {
      "application/vnd.jupyter.widget-view+json": {
       "model_id": "4bebb6b9bc7a4e2598434c438aefccf6",
       "version_major": 2,
       "version_minor": 0
      },
      "text/plain": [
       "HBox(children=(IntProgress(value=1, bar_style='info', max=1), HTML(value='')))"
      ]
     },
     "metadata": {},
     "output_type": "display_data"
    },
    {
     "name": "stdout",
     "output_type": "stream",
     "text": [
      "\n"
     ]
    }
   ],
   "source": [
    "from workshop_utils import * \n",
    "import pandas as pd\n",
    "import matplotlib.pyplot as plt\n",
    "import matplotlib.dates as mdates\n",
    "import seaborn as sns\n",
    "import datetime\n",
    "import geopandas as gpd\n",
    "import shapely\n",
    "%matplotlib inline\n",
    "%config InlineBackend.figure_format = 'retina'\n",
    "from tqdm import tqdm_notebook as tqdm\n",
    "tqdm().pandas();"
   ]
  },
  {
   "cell_type": "markdown",
   "metadata": {},
   "source": [
    "# Coverage and Density of objects mapped\n"
   ]
  },
  {
   "cell_type": "markdown",
   "metadata": {},
   "source": [
    "The following query gets all of the edits (ever), joined to changesets for all objects in Puerto Rico... it should take some time to download.\n",
    "\n",
    "```sql\n",
    "SELECT\n",
    "  central_america.id, \n",
    "  geom,\n",
    "  central_america.tags, changeset, updated, valid_until, version, minor_version,\n",
    "  changesets.id AS c_id, \n",
    "  changesets.tags as c_tags,\n",
    "  changesets.uid,\n",
    "  changesets.user\n",
    "  \n",
    "FROM central_america\n",
    "\n",
    "JOIN changesets on central_america.changeset = changesets.id\n",
    "\n",
    "WHERE ST_WITHIN(\n",
    "  geom , \n",
    "  ST_POLYGON('POLYGON((-67.3066 18.5729, -65.5553 18.5729, -65.5553 17.8729, -67.3066 17.8729, -67.3066 18.5729))'))\n",
    "ORDER BY updated\n",
    "```"
   ]
  },
  {
   "cell_type": "code",
   "execution_count": 91,
   "metadata": {
    "ExecuteTime": {
     "end_time": "2019-08-28T04:39:18.161330Z",
     "start_time": "2019-08-28T04:39:12.634791Z"
    },
    "scrolled": true
   },
   "outputs": [
    {
     "name": "stderr",
     "output_type": "stream",
     "text": [
      "Downloading from S3... Query results saved to: \n",
      "/www/45b14013-55ee-49a3-98e2-6fb47e45302d.csv\n",
      "Creating dataframe... done.  Found 374,801 rows"
     ]
    }
   ],
   "source": [
    "# edits = load_dataframe_from_s3('https://us-east-2.console.aws.amazon.com/athena/query/results/116fe037-6c95-4517-b52b-de3ecc3ba763/csv')\n",
    "#edits = load_dataframe_from_s3('https://us-east-2.console.aws.amazon.com/athena/query/results/5e4ea35a-0c61-4a79-8af0-77e18612ed13/csv')\n",
    "edits = load_dataframe_from_s3('https://us-east-2.console.aws.amazon.com/athena/query/results/45b14013-55ee-49a3-98e2-6fb47e45302d/csv')\n"
   ]
  },
  {
   "cell_type": "code",
   "execution_count": 92,
   "metadata": {},
   "outputs": [],
   "source": [
    "place = \"NW Puerto Rico\""
   ]
  },
  {
   "cell_type": "code",
   "execution_count": 93,
   "metadata": {
    "ExecuteTime": {
     "end_time": "2019-08-28T04:39:19.178890Z",
     "start_time": "2019-08-28T04:39:19.165205Z"
    },
    "scrolled": true
   },
   "outputs": [
    {
     "data": {
      "text/html": [
       "<div>\n",
       "<style scoped>\n",
       "    .dataframe tbody tr th:only-of-type {\n",
       "        vertical-align: middle;\n",
       "    }\n",
       "\n",
       "    .dataframe tbody tr th {\n",
       "        vertical-align: top;\n",
       "    }\n",
       "\n",
       "    .dataframe thead th {\n",
       "        text-align: right;\n",
       "    }\n",
       "</style>\n",
       "<table border=\"1\" class=\"dataframe\">\n",
       "  <thead>\n",
       "    <tr style=\"text-align: right;\">\n",
       "      <th></th>\n",
       "      <th>id</th>\n",
       "      <th>geom</th>\n",
       "      <th>tags</th>\n",
       "      <th>changeset</th>\n",
       "      <th>updated</th>\n",
       "      <th>valid_until</th>\n",
       "      <th>version</th>\n",
       "      <th>minor_version</th>\n",
       "      <th>c_id</th>\n",
       "      <th>c_tags</th>\n",
       "      <th>uid</th>\n",
       "      <th>user</th>\n",
       "    </tr>\n",
       "  </thead>\n",
       "  <tbody>\n",
       "    <tr>\n",
       "      <td>0</td>\n",
       "      <td>53200463</td>\n",
       "      <td>POINT (-66.9724524 18.4951852)</td>\n",
       "      <td>{created_by=JOSM}</td>\n",
       "      <td>454478</td>\n",
       "      <td>2007-09-17 10:20:25.000</td>\n",
       "      <td>2008-12-13 23:42:48.000</td>\n",
       "      <td>1</td>\n",
       "      <td>0</td>\n",
       "      <td>454478</td>\n",
       "      <td>{}</td>\n",
       "      <td>10019</td>\n",
       "      <td>Xaa</td>\n",
       "    </tr>\n",
       "    <tr>\n",
       "      <td>1</td>\n",
       "      <td>53200466</td>\n",
       "      <td>POINT (-67.0147075 18.5142)</td>\n",
       "      <td>{created_by=JOSM}</td>\n",
       "      <td>454478</td>\n",
       "      <td>2007-09-17 10:20:25.000</td>\n",
       "      <td>2008-12-13 23:42:48.000</td>\n",
       "      <td>1</td>\n",
       "      <td>0</td>\n",
       "      <td>454478</td>\n",
       "      <td>{}</td>\n",
       "      <td>10019</td>\n",
       "      <td>Xaa</td>\n",
       "    </tr>\n",
       "  </tbody>\n",
       "</table>\n",
       "</div>"
      ],
      "text/plain": [
       "         id                            geom               tags  changeset  \\\n",
       "0  53200463  POINT (-66.9724524 18.4951852)  {created_by=JOSM}     454478   \n",
       "1  53200466     POINT (-67.0147075 18.5142)  {created_by=JOSM}     454478   \n",
       "\n",
       "                   updated              valid_until  version  minor_version  \\\n",
       "0  2007-09-17 10:20:25.000  2008-12-13 23:42:48.000        1              0   \n",
       "1  2007-09-17 10:20:25.000  2008-12-13 23:42:48.000        1              0   \n",
       "\n",
       "     c_id c_tags    uid user  \n",
       "0  454478     {}  10019  Xaa  \n",
       "1  454478     {}  10019  Xaa  "
      ]
     },
     "execution_count": 93,
     "metadata": {},
     "output_type": "execute_result"
    }
   ],
   "source": [
    "edits.head(2)"
   ]
  },
  {
   "cell_type": "code",
   "execution_count": 94,
   "metadata": {
    "ExecuteTime": {
     "end_time": "2019-08-28T04:40:51.676386Z",
     "start_time": "2019-08-28T04:40:49.501301Z"
    }
   },
   "outputs": [
    {
     "data": {
      "application/vnd.jupyter.widget-view+json": {
       "model_id": "75085cad970746949563c4db33c89c66",
       "version_major": 2,
       "version_minor": 0
      },
      "text/plain": [
       "HBox(children=(IntProgress(value=0, max=374801), HTML(value='')))"
      ]
     },
     "metadata": {},
     "output_type": "display_data"
    },
    {
     "name": "stdout",
     "output_type": "stream",
     "text": [
      "\n"
     ]
    },
    {
     "data": {
      "application/vnd.jupyter.widget-view+json": {
       "model_id": "c033303605ab4ab7a4337beadd0ded4a",
       "version_major": 2,
       "version_minor": 0
      },
      "text/plain": [
       "HBox(children=(IntProgress(value=0, max=374801), HTML(value='')))"
      ]
     },
     "metadata": {},
     "output_type": "display_data"
    },
    {
     "name": "stdout",
     "output_type": "stream",
     "text": [
      "\n"
     ]
    }
   ],
   "source": [
    "#Cast the date as date\n",
    "edits['updated'] = edits.updated.progress_apply(pd.Timestamp)\n",
    "edits['date'] = edits.updated.progress_apply(pd.Timestamp.date)"
   ]
  },
  {
   "cell_type": "code",
   "execution_count": 95,
   "metadata": {
    "ExecuteTime": {
     "end_time": "2019-08-28T04:41:56.125260Z",
     "start_time": "2019-08-28T04:41:55.682108Z"
    }
   },
   "outputs": [
    {
     "data": {
      "text/html": [
       "<div>\n",
       "<style scoped>\n",
       "    .dataframe tbody tr th:only-of-type {\n",
       "        vertical-align: middle;\n",
       "    }\n",
       "\n",
       "    .dataframe tbody tr th {\n",
       "        vertical-align: top;\n",
       "    }\n",
       "\n",
       "    .dataframe thead th {\n",
       "        text-align: right;\n",
       "    }\n",
       "</style>\n",
       "<table border=\"1\" class=\"dataframe\">\n",
       "  <thead>\n",
       "    <tr style=\"text-align: right;\">\n",
       "      <th></th>\n",
       "      <th>c_id</th>\n",
       "      <th>id</th>\n",
       "      <th>uid</th>\n",
       "    </tr>\n",
       "    <tr>\n",
       "      <th>date</th>\n",
       "      <th></th>\n",
       "      <th></th>\n",
       "      <th></th>\n",
       "    </tr>\n",
       "  </thead>\n",
       "  <tbody>\n",
       "    <tr>\n",
       "      <td>2007-09-17</td>\n",
       "      <td>9</td>\n",
       "      <td>9</td>\n",
       "      <td>1</td>\n",
       "    </tr>\n",
       "    <tr>\n",
       "      <td>2008-01-16</td>\n",
       "      <td>1531</td>\n",
       "      <td>1531</td>\n",
       "      <td>1</td>\n",
       "    </tr>\n",
       "  </tbody>\n",
       "</table>\n",
       "</div>"
      ],
      "text/plain": [
       "            c_id    id  uid\n",
       "date                       \n",
       "2007-09-17     9     9    1\n",
       "2008-01-16  1531  1531    1"
      ]
     },
     "execution_count": 95,
     "metadata": {},
     "output_type": "execute_result"
    }
   ],
   "source": [
    "gb_date = edits.groupby('date').aggregate({\n",
    "    'c_id':'count',\n",
    "    'id':'nunique',\n",
    "    'uid':'nunique'\n",
    "});\n",
    "gb_date.head(2)"
   ]
  },
  {
   "cell_type": "code",
   "execution_count": 96,
   "metadata": {
    "ExecuteTime": {
     "end_time": "2019-08-28T04:41:57.021874Z",
     "start_time": "2019-08-28T04:41:56.837793Z"
    },
    "scrolled": false
   },
   "outputs": [
    {
     "data": {
      "image/png": "[encoded data removed]",
      "text/plain": [
       "<Figure size 1008x288 with 1 Axes>"
      ]
     },
     "metadata": {
      "image/png": {
       "height": 279,
       "width": 834
      }
     },
     "output_type": "display_data"
    }
   ],
   "source": [
    "sns.set_style('whitegrid')\n",
    "ax = gb_date['c_id'].plot(figsize=(14,4))\n",
    "ax.set_xlabel(\"Date\"); ax.set_ylabel(\"\");\n",
    "ax.set_title(\"Edits in {}\".format(place),fontsize=16);"
   ]
  },
  {
   "cell_type": "code",
   "execution_count": 97,
   "metadata": {
    "ExecuteTime": {
     "end_time": "2019-08-28T04:42:14.471947Z",
     "start_time": "2019-08-28T04:42:14.289916Z"
    }
   },
   "outputs": [
    {
     "data": {
      "image/png": "[encoded data removed]",
      "text/plain": [
       "<Figure size 1008x288 with 1 Axes>"
      ]
     },
     "metadata": {
      "image/png": {
       "height": 279,
       "width": 821
      }
     },
     "output_type": "display_data"
    }
   ],
   "source": [
    "sns.set_style('whitegrid')\n",
    "ax = gb_date['uid'].plot(style='.', figsize=(14,4))\n",
    "ax.set_xlabel(\"Date\"); ax.set_ylabel(\"\");\n",
    "ax.set_title(\"Unique editors active per day in Port Au Prince\",fontsize=16);"
   ]
  },
  {
   "cell_type": "code",
   "execution_count": 98,
   "metadata": {},
   "outputs": [],
   "source": [
    "after_tiger = edits[edits.updated > datetime.datetime(2010,1,1)]"
   ]
  },
  {
   "cell_type": "code",
   "execution_count": 99,
   "metadata": {},
   "outputs": [],
   "source": [
    "from shapely import wkt"
   ]
  },
  {
   "cell_type": "code",
   "execution_count": 120,
   "metadata": {},
   "outputs": [],
   "source": [
    "sample2 = after_tiger.sample(100000)"
   ]
  },
  {
   "cell_type": "code",
   "execution_count": 122,
   "metadata": {},
   "outputs": [
    {
     "data": {
      "application/vnd.jupyter.widget-view+json": {
       "model_id": "5d38ae81bc7b42bba5d6c7c99ac59258",
       "version_major": 2,
       "version_minor": 0
      },
      "text/plain": [
       "HBox(children=(IntProgress(value=0, max=100000), HTML(value='')))"
      ]
     },
     "metadata": {},
     "output_type": "display_data"
    },
    {
     "name": "stdout",
     "output_type": "stream",
     "text": [
      "\n"
     ]
    }
   ],
   "source": [
    "sample2.geom = sample2.geom.progress_apply(wkt.loads)"
   ]
  },
  {
   "cell_type": "code",
   "execution_count": 102,
   "metadata": {},
   "outputs": [],
   "source": [
    "points = gpd.GeoDataFrame(sample, geometry='geom')"
   ]
  },
  {
   "cell_type": "code",
   "execution_count": 123,
   "metadata": {},
   "outputs": [],
   "source": [
    "sample2['date'] = sample2.updated.apply(lambda x: x.isoformat())"
   ]
  },
  {
   "cell_type": "code",
   "execution_count": 126,
   "metadata": {
    "scrolled": true
   },
   "outputs": [],
   "source": [
    "objects = gpd.GeoDataFrame(sample2, geometry='geom')"
   ]
  },
  {
   "cell_type": "code",
   "execution_count": 117,
   "metadata": {
    "scrolled": false
   },
   "outputs": [
    {
     "name": "stdout",
     "output_type": "stream",
     "text": [
      "User Guide: https://github.com/keplergl/kepler.gl/blob/master/docs/keplergl-jupyter/user-guide.md\n"
     ]
    }
   ],
   "source": [
    "from keplergl import KeplerGl \n",
    "map_1 = KeplerGl(height=600)"
   ]
  },
  {
   "cell_type": "code",
   "execution_count": 118,
   "metadata": {},
   "outputs": [
    {
     "data": {
      "application/vnd.jupyter.widget-view+json": {
       "model_id": "179b83e85f3043d9879753c1282e4036",
       "version_major": 2,
       "version_minor": 0
      },
      "text/plain": [
       "KeplerGl(height=600)"
      ]
     },
     "metadata": {},
     "output_type": "display_data"
    }
   ],
   "source": [
    "map_1"
   ]
  },
  {
   "cell_type": "code",
   "execution_count": 119,
   "metadata": {},
   "outputs": [],
   "source": [
    "map_1.add_data(data=points[['geom','changeset','date','user']], name='points')"
   ]
  },
  {
   "cell_type": "code",
   "execution_count": 127,
   "metadata": {},
   "outputs": [],
   "source": [
    "map_1.add_data(data=objects[['geom','changeset','date','user']], name='objects')"
   ]
  },
  {
   "cell_type": "code",
   "execution_count": 24,
   "metadata": {},
   "outputs": [
    {
     "data": {
      "text/html": [
       "<div>\n",
       "<style scoped>\n",
       "    .dataframe tbody tr th:only-of-type {\n",
       "        vertical-align: middle;\n",
       "    }\n",
       "\n",
       "    .dataframe tbody tr th {\n",
       "        vertical-align: top;\n",
       "    }\n",
       "\n",
       "    .dataframe thead th {\n",
       "        text-align: right;\n",
       "    }\n",
       "</style>\n",
       "<table border=\"1\" class=\"dataframe\">\n",
       "  <thead>\n",
       "    <tr style=\"text-align: right;\">\n",
       "      <th></th>\n",
       "      <th>id</th>\n",
       "      <th>geom</th>\n",
       "      <th>tags</th>\n",
       "      <th>changeset</th>\n",
       "      <th>updated</th>\n",
       "      <th>valid_until</th>\n",
       "      <th>version</th>\n",
       "      <th>minor_version</th>\n",
       "      <th>c_id</th>\n",
       "      <th>c_tags</th>\n",
       "      <th>uid</th>\n",
       "      <th>user</th>\n",
       "      <th>date</th>\n",
       "    </tr>\n",
       "  </thead>\n",
       "  <tbody>\n",
       "    <tr>\n",
       "      <td>223220</td>\n",
       "      <td>533065713</td>\n",
       "      <td>POINT (-67.05603391955104 18.0473433)</td>\n",
       "      <td>{building=yes}</td>\n",
       "      <td>53544737</td>\n",
       "      <td>2017-11-06 04:45:22</td>\n",
       "      <td>NaN</td>\n",
       "      <td>1</td>\n",
       "      <td>1</td>\n",
       "      <td>53544737</td>\n",
       "      <td>{comment=#hotosm-project-3716 #HurricaneMaria ...</td>\n",
       "      <td>6772516</td>\n",
       "      <td>goodone2</td>\n",
       "      <td>2017-11-06T04:45:22</td>\n",
       "    </tr>\n",
       "    <tr>\n",
       "      <td>579752</td>\n",
       "      <td>533475147</td>\n",
       "      <td>POINT (-66.60119308762668 18.0130146)</td>\n",
       "      <td>{building=yes}</td>\n",
       "      <td>53054707</td>\n",
       "      <td>2017-10-18 23:17:53</td>\n",
       "      <td>NaN</td>\n",
       "      <td>2</td>\n",
       "      <td>0</td>\n",
       "      <td>53054707</td>\n",
       "      <td>{hashtags=#hotosm-project-3671;#HurricaneMaria...</td>\n",
       "      <td>2690257</td>\n",
       "      <td>StevenFranklinHill</td>\n",
       "      <td>2017-10-18T23:17:53</td>\n",
       "    </tr>\n",
       "    <tr>\n",
       "      <td>96717</td>\n",
       "      <td>531612265</td>\n",
       "      <td>POINT (-66.69731350000001 18.28231925)</td>\n",
       "      <td>{building=yes}</td>\n",
       "      <td>54032889</td>\n",
       "      <td>2017-11-23 18:38:43</td>\n",
       "      <td>NaN</td>\n",
       "      <td>2</td>\n",
       "      <td>0</td>\n",
       "      <td>54032889</td>\n",
       "      <td>{hashtags=#hotosm-project-3696;#HurricaneMaria...</td>\n",
       "      <td>6554299</td>\n",
       "      <td>Birgit1961</td>\n",
       "      <td>2017-11-23T18:38:43</td>\n",
       "    </tr>\n",
       "    <tr>\n",
       "      <td>919405</td>\n",
       "      <td>528204808</td>\n",
       "      <td>POINT (-65.99371135000001 18.2054543)</td>\n",
       "      <td>{building=yes}</td>\n",
       "      <td>52858185</td>\n",
       "      <td>2017-10-12 12:07:24</td>\n",
       "      <td>NaN</td>\n",
       "      <td>2</td>\n",
       "      <td>0</td>\n",
       "      <td>52858185</td>\n",
       "      <td>{hashtags=#hotosm-project-3643;#HurricaneMaria...</td>\n",
       "      <td>6532561</td>\n",
       "      <td>EsthersGeo</td>\n",
       "      <td>2017-10-12T12:07:24</td>\n",
       "    </tr>\n",
       "    <tr>\n",
       "      <td>15004</td>\n",
       "      <td>22705965</td>\n",
       "      <td>POINT (-67.131895 18.460667)</td>\n",
       "      <td>{tiger:cfcc=A41, tiger:reviewed=no, name=Calle...</td>\n",
       "      <td>61505457</td>\n",
       "      <td>2018-08-09 15:41:43</td>\n",
       "      <td>NaN</td>\n",
       "      <td>2</td>\n",
       "      <td>0</td>\n",
       "      <td>61505457</td>\n",
       "      <td>{host=https://www.openstreetmap.org/edit, imag...</td>\n",
       "      <td>8531481</td>\n",
       "      <td>Aguadilla City</td>\n",
       "      <td>2018-08-09T15:41:43</td>\n",
       "    </tr>\n",
       "  </tbody>\n",
       "</table>\n",
       "</div>"
      ],
      "text/plain": [
       "               id                                    geom  \\\n",
       "223220  533065713   POINT (-67.05603391955104 18.0473433)   \n",
       "579752  533475147   POINT (-66.60119308762668 18.0130146)   \n",
       "96717   531612265  POINT (-66.69731350000001 18.28231925)   \n",
       "919405  528204808   POINT (-65.99371135000001 18.2054543)   \n",
       "15004    22705965            POINT (-67.131895 18.460667)   \n",
       "\n",
       "                                                     tags  changeset  \\\n",
       "223220                                     {building=yes}   53544737   \n",
       "579752                                     {building=yes}   53054707   \n",
       "96717                                      {building=yes}   54032889   \n",
       "919405                                     {building=yes}   52858185   \n",
       "15004   {tiger:cfcc=A41, tiger:reviewed=no, name=Calle...   61505457   \n",
       "\n",
       "                   updated valid_until  version  minor_version      c_id  \\\n",
       "223220 2017-11-06 04:45:22         NaN        1              1  53544737   \n",
       "579752 2017-10-18 23:17:53         NaN        2              0  53054707   \n",
       "96717  2017-11-23 18:38:43         NaN        2              0  54032889   \n",
       "919405 2017-10-12 12:07:24         NaN        2              0  52858185   \n",
       "15004  2018-08-09 15:41:43         NaN        2              0  61505457   \n",
       "\n",
       "                                                   c_tags      uid  \\\n",
       "223220  {comment=#hotosm-project-3716 #HurricaneMaria ...  6772516   \n",
       "579752  {hashtags=#hotosm-project-3671;#HurricaneMaria...  2690257   \n",
       "96717   {hashtags=#hotosm-project-3696;#HurricaneMaria...  6554299   \n",
       "919405  {hashtags=#hotosm-project-3643;#HurricaneMaria...  6532561   \n",
       "15004   {host=https://www.openstreetmap.org/edit, imag...  8531481   \n",
       "\n",
       "                      user                 date  \n",
       "223220            goodone2  2017-11-06T04:45:22  \n",
       "579752  StevenFranklinHill  2017-10-18T23:17:53  \n",
       "96717           Birgit1961  2017-11-23T18:38:43  \n",
       "919405          EsthersGeo  2017-10-12T12:07:24  \n",
       "15004       Aguadilla City  2018-08-09T15:41:43  "
      ]
     },
     "execution_count": 24,
     "metadata": {},
     "output_type": "execute_result"
    }
   ],
   "source": [
    "x.head()"
   ]
  },
  {
   "cell_type": "code",
   "execution_count": 78,
   "metadata": {},
   "outputs": [],
   "source": [
    "import geopandas as gpd\n",
    "from shapely.geometry import Polygon\n",
    "import numpy as np\n",
    "\n",
    "def make_grid(length=0.1,width=0.1):\n",
    "    xmin,ymin,xmax,ymax = points.total_bounds\n",
    "\n",
    "    length = 0.1\n",
    "    wide = 0.1\n",
    "\n",
    "    cols = list(np.arange(int(np.floor(xmin)), int(np.ceil(xmax)), wide))\n",
    "    rows = list(np.arange(int(np.floor(ymin)), int(np.ceil(ymax)), length))\n",
    "    rows.reverse()\n",
    "\n",
    "    polygons = []\n",
    "    ids = []; count=0\n",
    "    for x in cols:\n",
    "        for y in rows:\n",
    "            count = count + 1\n",
    "            ids.append(count)\n",
    "            polygons.append( Polygon([(x,y), (x+wide, y), (x+wide, y-length), (x, y-length)]) )\n",
    "\n",
    "    return gpd.GeoDataFrame({'geometry':polygons, 'PolyID':ids})"
   ]
  },
  {
   "cell_type": "code",
   "execution_count": 79,
   "metadata": {},
   "outputs": [],
   "source": [
    "grid = make_grid()"
   ]
  },
  {
   "cell_type": "code",
   "execution_count": 80,
   "metadata": {},
   "outputs": [
    {
     "data": {
      "text/plain": [
       "<matplotlib.axes._subplots.AxesSubplot at 0x7f95e7cc67f0>"
      ]
     },
     "execution_count": 80,
     "metadata": {},
     "output_type": "execute_result"
    },
    {
     "data": {
      "image/png": "[encoded data removed]",
      "text/plain": [
       "<Figure size 432x288 with 1 Axes>"
      ]
     },
     "metadata": {
      "image/png": {
       "height": 252,
       "width": 376
      }
     },
     "output_type": "display_data"
    }
   ],
   "source": [
    "grid.plot()"
   ]
  },
  {
   "cell_type": "code",
   "execution_count": 87,
   "metadata": {},
   "outputs": [],
   "source": [
    "dfsjoin = gpd.sjoin(grid,points) #Spatial join Points to polygons\n",
    "dfpivot = pd.pivot_table(dfsjoin,index='PolyID',columns='id',aggfunc={'id':len})\n",
    "dfpivot.columns = dfpivot.columns.droplevel()\n",
    "\n",
    "dfpolynew = grid.merge(dfpivot, how='left',on='PolyID')"
   ]
  },
  {
   "cell_type": "code",
   "execution_count": 88,
   "metadata": {},
   "outputs": [
    {
     "data": {
      "text/html": [
       "<div>\n",
       "<style scoped>\n",
       "    .dataframe tbody tr th:only-of-type {\n",
       "        vertical-align: middle;\n",
       "    }\n",
       "\n",
       "    .dataframe tbody tr th {\n",
       "        vertical-align: top;\n",
       "    }\n",
       "\n",
       "    .dataframe thead th {\n",
       "        text-align: right;\n",
       "    }\n",
       "</style>\n",
       "<table border=\"1\" class=\"dataframe\">\n",
       "  <thead>\n",
       "    <tr style=\"text-align: right;\">\n",
       "      <th></th>\n",
       "      <th>geometry</th>\n",
       "      <th>PolyID</th>\n",
       "      <th>900353</th>\n",
       "      <th>1191518</th>\n",
       "      <th>4430069</th>\n",
       "      <th>5889030</th>\n",
       "      <th>7727664</th>\n",
       "      <th>21652877</th>\n",
       "      <th>21653368</th>\n",
       "      <th>21653667</th>\n",
       "      <th>...</th>\n",
       "      <th>5969324157</th>\n",
       "      <th>5972770387</th>\n",
       "      <th>5972792002</th>\n",
       "      <th>6106367211</th>\n",
       "      <th>6175651620</th>\n",
       "      <th>6192578385</th>\n",
       "      <th>6271952213</th>\n",
       "      <th>6319680655</th>\n",
       "      <th>6416588872</th>\n",
       "      <th>6446619251</th>\n",
       "    </tr>\n",
       "  </thead>\n",
       "  <tbody>\n",
       "    <tr>\n",
       "      <td>0</td>\n",
       "      <td>POLYGON ((-68 18.90000000000003, -67.900000000...</td>\n",
       "      <td>1</td>\n",
       "      <td>NaN</td>\n",
       "      <td>NaN</td>\n",
       "      <td>NaN</td>\n",
       "      <td>NaN</td>\n",
       "      <td>NaN</td>\n",
       "      <td>NaN</td>\n",
       "      <td>NaN</td>\n",
       "      <td>NaN</td>\n",
       "      <td>...</td>\n",
       "      <td>NaN</td>\n",
       "      <td>NaN</td>\n",
       "      <td>NaN</td>\n",
       "      <td>NaN</td>\n",
       "      <td>NaN</td>\n",
       "      <td>NaN</td>\n",
       "      <td>NaN</td>\n",
       "      <td>NaN</td>\n",
       "      <td>NaN</td>\n",
       "      <td>NaN</td>\n",
       "    </tr>\n",
       "    <tr>\n",
       "      <td>1</td>\n",
       "      <td>POLYGON ((-68 18.80000000000003, -67.900000000...</td>\n",
       "      <td>2</td>\n",
       "      <td>NaN</td>\n",
       "      <td>NaN</td>\n",
       "      <td>NaN</td>\n",
       "      <td>NaN</td>\n",
       "      <td>NaN</td>\n",
       "      <td>NaN</td>\n",
       "      <td>NaN</td>\n",
       "      <td>NaN</td>\n",
       "      <td>...</td>\n",
       "      <td>NaN</td>\n",
       "      <td>NaN</td>\n",
       "      <td>NaN</td>\n",
       "      <td>NaN</td>\n",
       "      <td>NaN</td>\n",
       "      <td>NaN</td>\n",
       "      <td>NaN</td>\n",
       "      <td>NaN</td>\n",
       "      <td>NaN</td>\n",
       "      <td>NaN</td>\n",
       "    </tr>\n",
       "    <tr>\n",
       "      <td>2</td>\n",
       "      <td>POLYGON ((-68 18.70000000000002, -67.900000000...</td>\n",
       "      <td>3</td>\n",
       "      <td>NaN</td>\n",
       "      <td>NaN</td>\n",
       "      <td>NaN</td>\n",
       "      <td>NaN</td>\n",
       "      <td>NaN</td>\n",
       "      <td>NaN</td>\n",
       "      <td>NaN</td>\n",
       "      <td>NaN</td>\n",
       "      <td>...</td>\n",
       "      <td>NaN</td>\n",
       "      <td>NaN</td>\n",
       "      <td>NaN</td>\n",
       "      <td>NaN</td>\n",
       "      <td>NaN</td>\n",
       "      <td>NaN</td>\n",
       "      <td>NaN</td>\n",
       "      <td>NaN</td>\n",
       "      <td>NaN</td>\n",
       "      <td>NaN</td>\n",
       "    </tr>\n",
       "    <tr>\n",
       "      <td>3</td>\n",
       "      <td>POLYGON ((-68 18.60000000000002, -67.900000000...</td>\n",
       "      <td>4</td>\n",
       "      <td>NaN</td>\n",
       "      <td>NaN</td>\n",
       "      <td>NaN</td>\n",
       "      <td>NaN</td>\n",
       "      <td>NaN</td>\n",
       "      <td>NaN</td>\n",
       "      <td>NaN</td>\n",
       "      <td>NaN</td>\n",
       "      <td>...</td>\n",
       "      <td>NaN</td>\n",
       "      <td>NaN</td>\n",
       "      <td>NaN</td>\n",
       "      <td>NaN</td>\n",
       "      <td>NaN</td>\n",
       "      <td>NaN</td>\n",
       "      <td>NaN</td>\n",
       "      <td>NaN</td>\n",
       "      <td>NaN</td>\n",
       "      <td>NaN</td>\n",
       "    </tr>\n",
       "    <tr>\n",
       "      <td>4</td>\n",
       "      <td>POLYGON ((-68 18.50000000000002, -67.900000000...</td>\n",
       "      <td>5</td>\n",
       "      <td>NaN</td>\n",
       "      <td>NaN</td>\n",
       "      <td>NaN</td>\n",
       "      <td>NaN</td>\n",
       "      <td>NaN</td>\n",
       "      <td>NaN</td>\n",
       "      <td>NaN</td>\n",
       "      <td>NaN</td>\n",
       "      <td>...</td>\n",
       "      <td>NaN</td>\n",
       "      <td>NaN</td>\n",
       "      <td>NaN</td>\n",
       "      <td>NaN</td>\n",
       "      <td>NaN</td>\n",
       "      <td>NaN</td>\n",
       "      <td>NaN</td>\n",
       "      <td>NaN</td>\n",
       "      <td>NaN</td>\n",
       "      <td>NaN</td>\n",
       "    </tr>\n",
       "  </tbody>\n",
       "</table>\n",
       "<p>5 rows × 9978 columns</p>\n",
       "</div>"
      ],
      "text/plain": [
       "                                            geometry  PolyID  900353  1191518  \\\n",
       "0  POLYGON ((-68 18.90000000000003, -67.900000000...       1     NaN      NaN   \n",
       "1  POLYGON ((-68 18.80000000000003, -67.900000000...       2     NaN      NaN   \n",
       "2  POLYGON ((-68 18.70000000000002, -67.900000000...       3     NaN      NaN   \n",
       "3  POLYGON ((-68 18.60000000000002, -67.900000000...       4     NaN      NaN   \n",
       "4  POLYGON ((-68 18.50000000000002, -67.900000000...       5     NaN      NaN   \n",
       "\n",
       "   4430069  5889030  7727664  21652877  21653368  21653667  ...  5969324157  \\\n",
       "0      NaN      NaN      NaN       NaN       NaN       NaN  ...         NaN   \n",
       "1      NaN      NaN      NaN       NaN       NaN       NaN  ...         NaN   \n",
       "2      NaN      NaN      NaN       NaN       NaN       NaN  ...         NaN   \n",
       "3      NaN      NaN      NaN       NaN       NaN       NaN  ...         NaN   \n",
       "4      NaN      NaN      NaN       NaN       NaN       NaN  ...         NaN   \n",
       "\n",
       "   5972770387  5972792002  6106367211  6175651620  6192578385  6271952213  \\\n",
       "0         NaN         NaN         NaN         NaN         NaN         NaN   \n",
       "1         NaN         NaN         NaN         NaN         NaN         NaN   \n",
       "2         NaN         NaN         NaN         NaN         NaN         NaN   \n",
       "3         NaN         NaN         NaN         NaN         NaN         NaN   \n",
       "4         NaN         NaN         NaN         NaN         NaN         NaN   \n",
       "\n",
       "   6319680655  6416588872  6446619251  \n",
       "0         NaN         NaN         NaN  \n",
       "1         NaN         NaN         NaN  \n",
       "2         NaN         NaN         NaN  \n",
       "3         NaN         NaN         NaN  \n",
       "4         NaN         NaN         NaN  \n",
       "\n",
       "[5 rows x 9978 columns]"
      ]
     },
     "execution_count": 88,
     "metadata": {},
     "output_type": "execute_result"
    }
   ],
   "source": [
    "dfpolynew.head()"
   ]
  },
  {
   "cell_type": "code",
   "execution_count": 65,
   "metadata": {},
   "outputs": [
    {
     "data": {
      "text/plain": [
       "<matplotlib.axes._subplots.AxesSubplot at 0x7f9600b3fcc0>"
      ]
     },
     "execution_count": 65,
     "metadata": {},
     "output_type": "execute_result"
    },
    {
     "data": {
      "image/png": "[encoded data removed]",
      "text/plain": [
       "<Figure size 432x288 with 1 Axes>"
      ]
     },
     "metadata": {
      "image/png": {
       "height": 154,
       "width": 378
      }
     },
     "output_type": "display_data"
    }
   ],
   "source": [
    "points.plot()"
   ]
  },
  {
   "cell_type": "code",
   "execution_count": null,
   "metadata": {},
   "outputs": [],
   "source": []
  }
 ],
 "metadata": {
  "hide_input": false,
  "kernelspec": {
   "display_name": "Python 3",
   "language": "python",
   "name": "python3"
  },
  "language_info": {
   "codemirror_mode": {
    "name": "ipython",
    "version": 3
   },
   "file_extension": ".py",
   "mimetype": "text/x-python",
   "name": "python",
   "nbconvert_exporter": "python",
   "pygments_lexer": "ipython3",
   "version": "3.6.8"
  },
  "varInspector": {
   "cols": {
    "lenName": 16,
    "lenType": 16,
    "lenVar": 40
   },
   "kernels_config": {
    "python": {
     "delete_cmd_postfix": "",
     "delete_cmd_prefix": "del ",
     "library": "var_list.py",
     "varRefreshCmd": "print(var_dic_list())"
    },
    "r": {
     "delete_cmd_postfix": ") ",
     "delete_cmd_prefix": "rm(",
     "library": "var_list.r",
     "varRefreshCmd": "cat(var_dic_list()) "
    }
   },
   "types_to_exclude": [
    "module",
    "function",
    "builtin_function_or_method",
    "instance",
    "_Feature"
   ],
   "window_display": false
  }
 },
 "nbformat": 4,
 "nbformat_minor": 2
}
